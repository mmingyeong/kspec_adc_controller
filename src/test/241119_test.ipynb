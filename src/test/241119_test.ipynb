{
 "cells": [
  {
   "cell_type": "code",
   "execution_count": 2,
   "metadata": {},
   "outputs": [
    {
     "name": "stderr",
     "output_type": "stream",
     "text": [
      "2024-12-18 14:19:54 [DEBUG] Initializing AdcActions class.\n",
      "2024-12-18 14:19:54 [DEBUG] Initializing AdcController\n",
      "2024-12-18 14:19:54 [INFO] Starting the process to find devices...\n",
      "2024-12-18 14:19:54 [INFO] ID 0: BusHardwareId(Wi-Fi (Intel(R) Wi-Fi 6E AX211 160MHz)) [bus hardware: Network Adapter, protocol: EtherCAT, hardware specifier: {0B3C66B5-CC23-40D1-997B-E4053F477E82}]\n",
      "2024-12-18 14:19:54 [INFO] ID 1: BusHardwareId(USB Bus) [bus hardware: USB BUS, protocol: MODBUS VCP, hardware specifier: UsbRoot0, extra hardware specifier: UsbBusVcp]\n",
      "2024-12-18 14:19:54 [INFO] ID 2: BusHardwareId(Wi-Fi (Intel(R) Wi-Fi 6E AX211 160MHz)) [bus hardware: Network Adapter, protocol: MODBUS TCP, hardware specifier: {0B3C66B5-CC23-40D1-997B-E4053F477E82}]\n",
      "2024-12-18 14:19:54 [INFO] ID 3: BusHardwareId(Wi-Fi (Intel(R) Wi-Fi 6E AX211 160MHz)) [bus hardware: Network Adapter, protocol: RESTful API, hardware specifier: {0B3C66B5-CC23-40D1-997B-E4053F477E82}]\n",
      "2024-12-18 14:19:54 [INFO] ID 4: BusHardwareId(USB Bus) [bus hardware: USB BUS, protocol: MSC, hardware specifier: UsbRoot0, extra hardware specifier: UsbBusMsc]\n",
      "2024-12-18 14:19:54 [INFO] Selected bus hardware ID: <nanotec_nanolib.Nanolib.BusHardwareId; proxy of <Swig Object of type 'nlc::BusHardwareId *' at 0x00000181C74B6EB0> >\n"
     ]
    },
    {
     "name": "stdout",
     "output_type": "stream",
     "text": [
      "Scan started.\n",
      "\n",
      "Scan finished.\n"
     ]
    },
    {
     "ename": "Exception",
     "evalue": "No devices found during scan.",
     "output_type": "error",
     "traceback": [
      "\u001b[1;31m---------------------------------------------------------------------------\u001b[0m",
      "\u001b[1;31mException\u001b[0m                                 Traceback (most recent call last)",
      "Cell \u001b[1;32mIn[2], line 3\u001b[0m\n\u001b[0;32m      1\u001b[0m \u001b[38;5;28;01mfrom\u001b[39;00m \u001b[38;5;21;01madc_actions\u001b[39;00m \u001b[38;5;28;01mimport\u001b[39;00m AdcActions\n\u001b[1;32m----> 3\u001b[0m controller \u001b[38;5;241m=\u001b[39m \u001b[43mAdcActions\u001b[49m\u001b[43m(\u001b[49m\u001b[43m)\u001b[49m\n",
      "File \u001b[1;32mc:\\Users\\USER\\work\\mingyeong\\kspec_adc_controller\\src\\adc_actions.py:33\u001b[0m, in \u001b[0;36mAdcActions.__init__\u001b[1;34m(self, logger)\u001b[0m\n\u001b[0;32m     31\u001b[0m \u001b[38;5;28mself\u001b[39m\u001b[38;5;241m.\u001b[39mlogger\u001b[38;5;241m.\u001b[39mdebug(\u001b[38;5;124m\"\u001b[39m\u001b[38;5;124mInitializing AdcActions class.\u001b[39m\u001b[38;5;124m\"\u001b[39m)\n\u001b[0;32m     32\u001b[0m \u001b[38;5;28mself\u001b[39m\u001b[38;5;241m.\u001b[39mcontroller \u001b[38;5;241m=\u001b[39m AdcController(\u001b[38;5;28mself\u001b[39m\u001b[38;5;241m.\u001b[39mlogger)\n\u001b[1;32m---> 33\u001b[0m \u001b[38;5;28;43mself\u001b[39;49m\u001b[38;5;241;43m.\u001b[39;49m\u001b[43mcontroller\u001b[49m\u001b[38;5;241;43m.\u001b[39;49m\u001b[43mfind_devices\u001b[49m\u001b[43m(\u001b[49m\u001b[43m)\u001b[49m\n\u001b[0;32m     34\u001b[0m \u001b[38;5;28mself\u001b[39m\u001b[38;5;241m.\u001b[39mcalculator \u001b[38;5;241m=\u001b[39m ADCCalc(\u001b[38;5;28mself\u001b[39m\u001b[38;5;241m.\u001b[39mlogger)\n",
      "File \u001b[1;32mc:\\Users\\USER\\work\\mingyeong\\kspec_adc_controller\\src\\adc_controller.py:141\u001b[0m, in \u001b[0;36mAdcController.find_devices\u001b[1;34m(self)\u001b[0m\n\u001b[0;32m    139\u001b[0m \u001b[38;5;28mself\u001b[39m\u001b[38;5;241m.\u001b[39mdevice_ids \u001b[38;5;241m=\u001b[39m scan_devices\u001b[38;5;241m.\u001b[39mgetResult()\n\u001b[0;32m    140\u001b[0m \u001b[38;5;28;01mif\u001b[39;00m \u001b[38;5;129;01mnot\u001b[39;00m \u001b[38;5;28mself\u001b[39m\u001b[38;5;241m.\u001b[39mdevice_ids\u001b[38;5;241m.\u001b[39msize():\n\u001b[1;32m--> 141\u001b[0m     \u001b[38;5;28;01mraise\u001b[39;00m \u001b[38;5;167;01mException\u001b[39;00m(\u001b[38;5;124m\"\u001b[39m\u001b[38;5;124mNo devices found during scan.\u001b[39m\u001b[38;5;124m\"\u001b[39m)\n\u001b[0;32m    143\u001b[0m \u001b[38;5;28;01mfor\u001b[39;00m i, device_id \u001b[38;5;129;01min\u001b[39;00m \u001b[38;5;28menumerate\u001b[39m(\u001b[38;5;28mself\u001b[39m\u001b[38;5;241m.\u001b[39mdevice_ids):\n\u001b[0;32m    144\u001b[0m     \u001b[38;5;28;01mif\u001b[39;00m i \u001b[38;5;241m+\u001b[39m \u001b[38;5;241m1\u001b[39m \u001b[38;5;129;01min\u001b[39;00m \u001b[38;5;28mself\u001b[39m\u001b[38;5;241m.\u001b[39mdevices:\n",
      "\u001b[1;31mException\u001b[0m: No devices found during scan."
     ]
    }
   ],
   "source": [
    "from adc_actions import AdcActions\n",
    "\n",
    "controller = AdcActions()"
   ]
  },
  {
   "cell_type": "code",
   "execution_count": null,
   "metadata": {},
   "outputs": [],
   "source": [
    "controller.status()"
   ]
  },
  {
   "cell_type": "code",
   "execution_count": null,
   "metadata": {},
   "outputs": [],
   "source": [
    "# 비동기 함수 호출\n",
    "zenith_angle = 20  # 0-60\n",
    "response = await controller.activate(zenith_angle)"
   ]
  },
  {
   "cell_type": "code",
   "execution_count": null,
   "metadata": {},
   "outputs": [],
   "source": [
    "await controller.homing()"
   ]
  },
  {
   "cell_type": "code",
   "execution_count": null,
   "metadata": {},
   "outputs": [],
   "source": [
    "controller.power_off()"
   ]
  }
 ],
 "metadata": {
  "kernelspec": {
   "display_name": "kspectest",
   "language": "python",
   "name": "python3"
  },
  "language_info": {
   "codemirror_mode": {
    "name": "ipython",
    "version": 3
   },
   "file_extension": ".py",
   "mimetype": "text/x-python",
   "name": "python",
   "nbconvert_exporter": "python",
   "pygments_lexer": "ipython3",
   "version": "3.12.7"
  }
 },
 "nbformat": 4,
 "nbformat_minor": 2
}
