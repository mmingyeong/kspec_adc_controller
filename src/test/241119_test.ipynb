{
 "cells": [
  {
   "cell_type": "code",
   "execution_count": 1,
   "metadata": {},
   "outputs": [
    {
     "name": "stderr",
     "output_type": "stream",
     "text": [
      "2024-12-05 15:33:00 [DEBUG] Initializing AdcActions class.\n",
      "2024-12-05 15:33:00 [DEBUG] Initializing AdcController\n",
      "2024-12-05 15:33:00 [WARNING] Configuration file adc_config.json not found. Using default index 1.\n",
      "2024-12-05 15:33:00 [INFO] Starting the process to find devices...\n",
      "2024-12-05 15:33:00 [INFO] ID 0: BusHardwareId(Wi-Fi (Intel(R) Wi-Fi 6E AX211 160MHz)) [bus hardware: Network Adapter, protocol: EtherCAT, hardware specifier: {0B3C66B5-CC23-40D1-997B-E4053F477E82}]\n",
      "2024-12-05 15:33:00 [INFO] ID 1: BusHardwareId(Serial Port (COM3)) [bus hardware: Serial Port, protocol: MODBUS RTU, hardware specifier: COM3]\n",
      "2024-12-05 15:33:00 [INFO] ID 2: BusHardwareId(USB Bus) [bus hardware: USB BUS, protocol: MODBUS VCP, hardware specifier: UsbRoot0, extra hardware specifier: UsbBusVcp]\n",
      "2024-12-05 15:33:00 [INFO] ID 3: BusHardwareId(Wi-Fi (Intel(R) Wi-Fi 6E AX211 160MHz)) [bus hardware: Network Adapter, protocol: MODBUS TCP, hardware specifier: {0B3C66B5-CC23-40D1-997B-E4053F477E82}]\n",
      "2024-12-05 15:33:00 [INFO] ID 4: BusHardwareId(Wi-Fi (Intel(R) Wi-Fi 6E AX211 160MHz)) [bus hardware: Network Adapter, protocol: RESTful API, hardware specifier: {0B3C66B5-CC23-40D1-997B-E4053F477E82}]\n",
      "2024-12-05 15:33:00 [INFO] ID 5: BusHardwareId(USB Bus) [bus hardware: USB BUS, protocol: MSC, hardware specifier: UsbRoot0, extra hardware specifier: UsbBusMsc]\n",
      "2024-12-05 15:33:00 [INFO] Selected bus hardware ID: <nanotec_nanolib.Nanolib.BusHardwareId; proxy of <Swig Object of type 'nlc::BusHardwareId *' at 0x000002764EB2B660> >\n"
     ]
    },
    {
     "name": "stdout",
     "output_type": "stream",
     "text": [
      "Scan started.\n",
      "............................................................................................................................."
     ]
    },
    {
     "name": "stderr",
     "output_type": "stream",
     "text": [
      "2024-12-05 15:33:27 [INFO] Device 1 added successfully.\n",
      "2024-12-05 15:33:27 [INFO] Device 2 added successfully.\n"
     ]
    },
    {
     "name": "stdout",
     "output_type": "stream",
     "text": [
      "\n",
      "Scan finished.\n"
     ]
    }
   ],
   "source": [
    "from adc_actions import AdcActions\n",
    "\n",
    "controller = AdcActions()"
   ]
  },
  {
   "cell_type": "code",
   "execution_count": 2,
   "metadata": {},
   "outputs": [
    {
     "name": "stderr",
     "output_type": "stream",
     "text": [
      "2024-12-05 15:33:27 [INFO] Retrieving status for motor 0.\n",
      "2024-12-05 15:33:27 [INFO] Device states: {'motor1': {'connection_state': False}, 'motor2': {'connection_state': False}}\n",
      "2024-12-05 15:33:27 [INFO] Motor 0 status: {'motor1': {'connection_state': False}, 'motor2': {'connection_state': False}}\n"
     ]
    },
    {
     "data": {
      "text/plain": [
       "{'status': 'success',\n",
       " 'message': 'Motor 0 status retrieved.',\n",
       " 'DeviceState': {'motor1': {'connection_state': False},\n",
       "  'motor2': {'connection_state': False}}}"
      ]
     },
     "execution_count": 2,
     "metadata": {},
     "output_type": "execute_result"
    }
   ],
   "source": [
    "controller.status()"
   ]
  },
  {
   "cell_type": "code",
   "execution_count": 3,
   "metadata": {},
   "outputs": [
    {
     "name": "stderr",
     "output_type": "stream",
     "text": [
      "2024-12-05 15:33:27 [INFO] Activating motors.\n",
      "2024-12-05 15:33:28 [INFO] Device 1 connected successfully.\n",
      "2024-12-05 15:33:28 [INFO] Device 2 connected successfully.\n",
      "2024-12-05 15:33:28 [DEBUG] Moving Motor 1 to position 4050 with velocity 5\n",
      "2024-12-05 15:33:28 [DEBUG] Moving Motor 2 to position 4050 with velocity 5\n",
      "2024-12-05 15:33:42 [INFO] Motors activated successfully.\n"
     ]
    },
    {
     "name": "stdout",
     "output_type": "stream",
     "text": [
      "{'status': 'success', 'message': 'Motors activated successfully.', 'motor_1': {'initial_position': 32400, 'final_position': 36450, 'position_change': 4050, 'execution_time': 13.963254928588867}, 'motor_2': {'initial_position': 32400, 'final_position': 36452, 'position_change': 4052, 'execution_time': 13.928083896636963}}\n"
     ]
    }
   ],
   "source": [
    "# 비동기 함수 호출\n",
    "pos = 4050\n",
    "response = await controller.activate(pos)\n",
    "\n",
    "# 결과 출력\n",
    "print(response)"
   ]
  },
  {
   "cell_type": "code",
   "execution_count": 4,
   "metadata": {},
   "outputs": [
    {
     "name": "stderr",
     "output_type": "stream",
     "text": [
      "2024-12-05 15:33:42 [INFO] Retrieving status for motor 0.\n",
      "2024-12-05 15:33:42 [INFO] Device states: {'motor1': {'connection_state': True}, 'motor2': {'connection_state': True}}\n",
      "2024-12-05 15:33:42 [INFO] Motor 0 status: {'motor1': {'connection_state': True}, 'motor2': {'connection_state': True}}\n"
     ]
    },
    {
     "data": {
      "text/plain": [
       "{'status': 'success',\n",
       " 'message': 'Motor 0 status retrieved.',\n",
       " 'DeviceState': {'motor1': {'connection_state': True},\n",
       "  'motor2': {'connection_state': True}}}"
      ]
     },
     "execution_count": 4,
     "metadata": {},
     "output_type": "execute_result"
    }
   ],
   "source": [
    "controller.status()"
   ]
  },
  {
   "cell_type": "code",
   "execution_count": 5,
   "metadata": {},
   "outputs": [
    {
     "name": "stderr",
     "output_type": "stream",
     "text": [
      "2024-12-05 15:33:42 [INFO] Powering off and disconnecting from devices.\n",
      "2024-12-05 15:33:42 [INFO] Device 1 disconnected successfully.\n",
      "2024-12-05 15:33:42 [INFO] Device 2 disconnected successfully.\n",
      "2024-12-05 15:33:42 [DEBUG] Closing all devices...\n",
      "2024-12-05 15:33:42 [INFO] Bus hardware closed successfully.\n",
      "2024-12-05 15:33:42 [INFO] Power off successful.\n"
     ]
    },
    {
     "data": {
      "text/plain": [
       "{'status': 'success', 'message': 'Power off and devices disconnected.'}"
      ]
     },
     "execution_count": 5,
     "metadata": {},
     "output_type": "execute_result"
    }
   ],
   "source": [
    "controller.power_off()"
   ]
  }
 ],
 "metadata": {
  "kernelspec": {
   "display_name": "kspectest",
   "language": "python",
   "name": "python3"
  },
  "language_info": {
   "codemirror_mode": {
    "name": "ipython",
    "version": 3
   },
   "file_extension": ".py",
   "mimetype": "text/x-python",
   "name": "python",
   "nbconvert_exporter": "python",
   "pygments_lexer": "ipython3",
   "version": "3.12.7"
  }
 },
 "nbformat": 4,
 "nbformat_minor": 2
}
