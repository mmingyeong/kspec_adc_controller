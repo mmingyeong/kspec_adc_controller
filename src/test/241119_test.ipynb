{
 "cells": [
  {
   "cell_type": "code",
   "execution_count": 1,
   "metadata": {},
   "outputs": [
    {
     "name": "stderr",
     "output_type": "stream",
     "text": [
      "2025-01-08 17:44:00 [DEBUG] Initializing AdcActions class.\n",
      "2025-01-08 17:44:00 [DEBUG] Initializing AdcController\n",
      "2025-01-08 17:44:00 [INFO] Starting the process to find devices...\n",
      "2025-01-08 17:44:00 [INFO] ID 0: BusHardwareId(���� ���� ����* 11 (TAP-Windows Adapter V9 - SecuwaySSLU)) [bus hardware: Network Adapter, protocol: EtherCAT, hardware specifier: {6F66967D-2C7A-453E-9BE9-B3C3C041A83C}]\n",
      "2025-01-08 17:44:00 [INFO] ID 1: BusHardwareId(Wi-Fi (Intel(R) Wi-Fi 6E AX211 160MHz)) [bus hardware: Network Adapter, protocol: EtherCAT, hardware specifier: {85B9F7EF-9B8F-408F-ABBC-374426446F5C}]\n",
      "2025-01-08 17:44:00 [INFO] ID 2: BusHardwareId(Serial Port (COM3)) [bus hardware: Serial Port, protocol: MODBUS RTU, hardware specifier: COM3]\n",
      "2025-01-08 17:44:00 [INFO] ID 3: BusHardwareId(Serial Port (COM4)) [bus hardware: Serial Port, protocol: MODBUS RTU, hardware specifier: COM4]\n",
      "2025-01-08 17:44:00 [INFO] ID 4: BusHardwareId(USB Bus) [bus hardware: USB BUS, protocol: MODBUS VCP, hardware specifier: UsbRoot0, extra hardware specifier: UsbBusVcp]\n",
      "2025-01-08 17:44:00 [INFO] ID 5: BusHardwareId(���� ���� ����* 11 (TAP-Windows Adapter V9 - SecuwaySSLU)) [bus hardware: Network Adapter, protocol: MODBUS TCP, hardware specifier: {6F66967D-2C7A-453E-9BE9-B3C3C041A83C}]\n",
      "2025-01-08 17:44:00 [INFO] ID 6: BusHardwareId(Wi-Fi (Intel(R) Wi-Fi 6E AX211 160MHz)) [bus hardware: Network Adapter, protocol: MODBUS TCP, hardware specifier: {85B9F7EF-9B8F-408F-ABBC-374426446F5C}]\n",
      "2025-01-08 17:44:00 [INFO] ID 7: BusHardwareId(���� ���� ����* 11 (TAP-Windows Adapter V9 - SecuwaySSLU)) [bus hardware: Network Adapter, protocol: RESTful API, hardware specifier: {6F66967D-2C7A-453E-9BE9-B3C3C041A83C}]\n",
      "2025-01-08 17:44:00 [INFO] ID 8: BusHardwareId(Wi-Fi (Intel(R) Wi-Fi 6E AX211 160MHz)) [bus hardware: Network Adapter, protocol: RESTful API, hardware specifier: {85B9F7EF-9B8F-408F-ABBC-374426446F5C}]\n",
      "2025-01-08 17:44:00 [INFO] ID 9: BusHardwareId(USB Bus) [bus hardware: USB BUS, protocol: MSC, hardware specifier: UsbRoot0, extra hardware specifier: UsbBusMsc]\n",
      "2025-01-08 17:44:00 [INFO] Selected bus hardware ID: <nanotec_nanolib.Nanolib.BusHardwareId; proxy of <Swig Object of type 'nlc::BusHardwareId *' at 0x000001DDB717B510> >\n"
     ]
    },
    {
     "name": "stdout",
     "output_type": "stream",
     "text": [
      "Scan started.\n",
      "............................................................................................................................."
     ]
    },
    {
     "name": "stderr",
     "output_type": "stream",
     "text": [
      "2025-01-08 17:44:27 [INFO] Device 1 added successfully.\n",
      "2025-01-08 17:44:27 [INFO] Device 2 added successfully.\n",
      "2025-01-08 17:44:27 [INFO] Lookup table found: ./etc/ADC_lookup.csv\n",
      "2025-01-08 17:44:27 [INFO] Zenith angle-ADC angle interpolation function created\n"
     ]
    },
    {
     "name": "stdout",
     "output_type": "stream",
     "text": [
      "\n",
      "Scan finished.\n"
     ]
    }
   ],
   "source": [
    "from adc_actions import AdcActions\n",
    "\n",
    "controller = AdcActions()"
   ]
  },
  {
   "cell_type": "code",
   "execution_count": 2,
   "metadata": {},
   "outputs": [
    {
     "name": "stderr",
     "output_type": "stream",
     "text": [
      "2025-01-08 17:44:27 [INFO] Connecting to devices.\n",
      "2025-01-08 17:44:27 [INFO] Device 1 connected successfully.\n",
      "2025-01-08 17:44:28 [INFO] Device 2 connected successfully.\n",
      "2025-01-08 17:44:28 [INFO] Connection successful.\n"
     ]
    },
    {
     "data": {
      "text/plain": [
       "{'status': 'success', 'message': 'Connected to devices.'}"
      ]
     },
     "execution_count": 2,
     "metadata": {},
     "output_type": "execute_result"
    }
   ],
   "source": [
    "controller.connect()"
   ]
  },
  {
   "cell_type": "code",
   "execution_count": 3,
   "metadata": {},
   "outputs": [
    {
     "name": "stderr",
     "output_type": "stream",
     "text": [
      "2025-01-08 17:44:28 [DEBUG] Starting simultaneous move for motors 1 and 2 to position -1000 with velocity 5.\n",
      "2025-01-08 17:44:28 [DEBUG] Moving Motor 1 to position -1000 with velocity 5\n",
      "2025-01-08 17:44:28 [DEBUG] Moving Motor 2 to position -1000 with velocity 5\n",
      "2025-01-08 17:44:32 [INFO] Both motors moved successfully.\n"
     ]
    },
    {
     "data": {
      "text/plain": [
       "{'status': 'success',\n",
       " 'message': 'Motors activated successfully.',\n",
       " 'motor_1': {'initial_position': 25271,\n",
       "  'final_position': 24271,\n",
       "  'position_change': -1000,\n",
       "  'execution_time': 4.361906290054321},\n",
       " 'motor_2': {'initial_position': 84003,\n",
       "  'final_position': 83003,\n",
       "  'position_change': -1000,\n",
       "  'execution_time': 4.376832485198975}}"
      ]
     },
     "execution_count": 3,
     "metadata": {},
     "output_type": "execute_result"
    }
   ],
   "source": [
    "await controller.move(0, -1000, 5)"
   ]
  },
  {
   "cell_type": "code",
   "execution_count": 4,
   "metadata": {},
   "outputs": [
    {
     "name": "stderr",
     "output_type": "stream",
     "text": [
      "2025-01-08 17:44:32 [INFO] Starting homing operation.\n",
      "2025-01-08 17:44:32 [DEBUG] Calling homing method on controller.\n",
      "2025-01-08 17:44:32 [INFO] Initializing homing process for both motors.\n",
      "2025-01-08 17:44:32 [INFO] Motor 1 homing initiated. Monitoring position changes...\n",
      "2025-01-08 17:44:32 [INFO] Motor 2 homing initiated. Monitoring position changes...\n",
      "2025-01-08 17:47:04 [DEBUG] Stopping Motor 1\n",
      "2025-01-08 17:47:04 [INFO] Motor 1 stopped successfully.\n",
      "2025-01-08 17:47:04 [ERROR] Motor 1 halt failed.\n",
      "2025-01-08 17:47:04 [INFO] Home position found for Motor 1.\n",
      "2025-01-08 17:48:46 [DEBUG] Stopping Motor 2\n",
      "2025-01-08 17:48:46 [INFO] Motor 2 stopped successfully.\n",
      "2025-01-08 17:48:46 [ERROR] Motor 2 halt failed.\n",
      "2025-01-08 17:48:46 [INFO] Home position found for Motor 2.\n",
      "2025-01-08 17:48:46 [INFO] Home positions set: Motor 1: 33369, Motor 2: 98199\n",
      "2025-01-08 17:48:46 [INFO] Homing complete. Final positions: Motor 1: 33369, Motor 2: 98199\n",
      "2025-01-08 17:48:46 [INFO] Homing completed successfully.\n"
     ]
    },
    {
     "data": {
      "text/plain": [
       "{'status': 'success'}"
      ]
     },
     "execution_count": 4,
     "metadata": {},
     "output_type": "execute_result"
    }
   ],
   "source": [
    "await controller.homing()"
   ]
  },
  {
   "cell_type": "code",
   "execution_count": 5,
   "metadata": {},
   "outputs": [
    {
     "name": "stderr",
     "output_type": "stream",
     "text": [
      "2025-01-08 17:48:46 [INFO] Starting zeroing operation.\n",
      "2025-01-08 17:48:46 [DEBUG] Initiating homing as part of zeroing.\n",
      "2025-01-08 17:48:46 [INFO] Current positions: Motor 1: 33369, Motor 2: 98199\n",
      "2025-01-08 17:48:46 [INFO] Target home positions: Motor 1: 33369, Motor 2: 98199\n",
      "2025-01-08 17:48:46 [INFO] Both motors are already at home position.\n",
      "2025-01-08 17:48:46 [INFO] Homing complete. Final positions: Motor 1: 33369, Motor 2: 98199\n",
      "2025-01-08 17:48:46 [DEBUG] Moving motor 1 by 8000 counts.\n",
      "2025-01-08 17:48:46 [DEBUG] Moving motor 2 by 2000 counts.\n",
      "2025-01-08 17:48:46 [DEBUG] Moving Motor 1 to position 8000 with velocity 5\n",
      "2025-01-08 17:48:46 [DEBUG] Moving Motor 2 to position 2000 with velocity 5\n",
      "2025-01-08 17:49:14 [INFO] Zeroing completed successfully.\n"
     ]
    },
    {
     "data": {
      "text/plain": [
       "{'status': 'success'}"
      ]
     },
     "execution_count": 5,
     "metadata": {},
     "output_type": "execute_result"
    }
   ],
   "source": [
    "await controller.zeroing()"
   ]
  },
  {
   "cell_type": "code",
   "execution_count": 7,
   "metadata": {},
   "outputs": [
    {
     "name": "stderr",
     "output_type": "stream",
     "text": [
      "2025-01-08 17:49:19 [INFO] Retrieving status for motor 0.\n",
      "2025-01-08 17:49:19 [INFO] Device states: {'motor1': {'position_state': 41369, 'connection_state': True}, 'motor2': {'position_state': 100199, 'connection_state': True}}\n",
      "2025-01-08 17:49:19 [INFO] Motor 0 status: {'motor1': {'position_state': 41369, 'connection_state': True}, 'motor2': {'position_state': 100199, 'connection_state': True}}\n"
     ]
    },
    {
     "data": {
      "text/plain": [
       "{'status': 'success',\n",
       " 'message': 'Motor 0 status retrieved.',\n",
       " 'DeviceState': {'motor1': {'position_state': 41369, 'connection_state': True},\n",
       "  'motor2': {'position_state': 100199, 'connection_state': True}}}"
      ]
     },
     "execution_count": 7,
     "metadata": {},
     "output_type": "execute_result"
    }
   ],
   "source": [
    "controller.status()"
   ]
  }
 ],
 "metadata": {
  "kernelspec": {
   "display_name": "kspectest",
   "language": "python",
   "name": "python3"
  },
  "language_info": {
   "codemirror_mode": {
    "name": "ipython",
    "version": 3
   },
   "file_extension": ".py",
   "mimetype": "text/x-python",
   "name": "python",
   "nbconvert_exporter": "python",
   "pygments_lexer": "ipython3",
   "version": "3.11.11"
  }
 },
 "nbformat": 4,
 "nbformat_minor": 2
}
