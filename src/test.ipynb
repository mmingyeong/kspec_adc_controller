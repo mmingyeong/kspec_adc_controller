{
 "cells": [
  {
   "cell_type": "code",
   "execution_count": 1,
   "metadata": {},
   "outputs": [],
   "source": [
    "#!/usr/bin/env python\n",
    "# -*- coding: utf-8 -*-\n",
    "#\n",
    "# @Author: Mingyeong Yang (mmingyeong@kasi.re.kr)\n",
    "# @Date: 2024-06-26\n",
    "# @Filename: test.py\n",
    "\n",
    "from adc_controller import adc_controller"
   ]
  },
  {
   "cell_type": "code",
   "execution_count": 2,
   "metadata": {},
   "outputs": [
    {
     "name": "stderr",
     "output_type": "stream",
     "text": [
      "2024-07-25 15:25:46,743 DEBUG: Initializing adc_controller\n"
     ]
    },
    {
     "name": "stdout",
     "output_type": "stream",
     "text": [
      "Scan started.\n",
      ".............................................................................................................................\n",
      "Scan finished.\n"
     ]
    }
   ],
   "source": [
    "controller = adc_controller()"
   ]
  },
  {
   "cell_type": "code",
   "execution_count": 3,
   "metadata": {},
   "outputs": [
    {
     "name": "stderr",
     "output_type": "stream",
     "text": [
      "2024-07-25 15:26:45,269 DEBUG: Connecting devices\n"
     ]
    }
   ],
   "source": [
    "controller.connect()"
   ]
  },
  {
   "cell_type": "code",
   "execution_count": 4,
   "metadata": {},
   "outputs": [
    {
     "name": "stderr",
     "output_type": "stream",
     "text": [
      "2024-07-25 15:26:45,634 DEBUG: Checking connection state\n",
      "2024-07-25 15:26:45,663 INFO: Connection state: {'motor 1': True, 'motor 2': True}\n"
     ]
    },
    {
     "data": {
      "text/plain": [
       "{'motor 1': True, 'motor 2': True}"
      ]
     },
     "execution_count": 4,
     "metadata": {},
     "output_type": "execute_result"
    }
   ],
   "source": [
    "controller.checkConnectionState()"
   ]
  },
  {
   "cell_type": "code",
   "execution_count": 5,
   "metadata": {},
   "outputs": [],
   "source": [
    "#controller.object_dictionary_access_examples()\n",
    "#controller.test_PP()\n",
    "# controller.test_PV()"
   ]
  },
  {
   "cell_type": "code",
   "execution_count": 6,
   "metadata": {},
   "outputs": [
    {
     "name": "stderr",
     "output_type": "stream",
     "text": [
      "2024-07-25 15:26:45,692 DEBUG: Disconnecting devices\n"
     ]
    }
   ],
   "source": [
    "controller.disconnect()"
   ]
  },
  {
   "cell_type": "code",
   "execution_count": 7,
   "metadata": {},
   "outputs": [
    {
     "name": "stderr",
     "output_type": "stream",
     "text": [
      "2024-07-25 15:26:45,705 DEBUG: Checking connection state\n",
      "2024-07-25 15:26:45,706 INFO: Connection state: {'motor 1': False, 'motor 2': False}\n"
     ]
    },
    {
     "data": {
      "text/plain": [
       "{'motor 1': False, 'motor 2': False}"
      ]
     },
     "execution_count": 7,
     "metadata": {},
     "output_type": "execute_result"
    }
   ],
   "source": [
    "controller.checkConnectionState()"
   ]
  },
  {
   "cell_type": "code",
   "execution_count": 8,
   "metadata": {},
   "outputs": [
    {
     "name": "stderr",
     "output_type": "stream",
     "text": [
      "2024-07-25 15:26:45,717 DEBUG: close all\n"
     ]
    }
   ],
   "source": [
    "controller.close()"
   ]
  }
 ],
 "metadata": {
  "kernelspec": {
   "display_name": "test",
   "language": "python",
   "name": "python3"
  },
  "language_info": {
   "codemirror_mode": {
    "name": "ipython",
    "version": 3
   },
   "file_extension": ".py",
   "mimetype": "text/x-python",
   "name": "python",
   "nbconvert_exporter": "python",
   "pygments_lexer": "ipython3",
   "version": "3.9.19"
  }
 },
 "nbformat": 4,
 "nbformat_minor": 2
}
