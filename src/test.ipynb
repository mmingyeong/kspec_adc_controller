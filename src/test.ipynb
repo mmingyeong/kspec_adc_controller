{
 "cells": [
  {
   "cell_type": "code",
   "execution_count": 9,
   "metadata": {},
   "outputs": [],
   "source": [
    "#!/usr/bin/env python\n",
    "# -*- coding: utf-8 -*-\n",
    "#\n",
    "# @Author: Mingyeong Yang (mmingyeong@kasi.re.kr)\n",
    "# @Date: 2024-06-26\n",
    "# @Filename: test.py\n",
    "\n",
    "from adc_controller import adc_controller"
   ]
  },
  {
   "cell_type": "code",
   "execution_count": 10,
   "metadata": {},
   "outputs": [
    {
     "name": "stderr",
     "output_type": "stream",
     "text": [
      "2024-06-27 14:08:41,557 DEBUG: Initializing adc_controller\n"
     ]
    },
    {
     "name": "stdout",
     "output_type": "stream",
     "text": [
      "Scan started.\n",
      ".............................................................................................................................\n",
      "Scan finished.\n"
     ]
    }
   ],
   "source": [
    "controller = adc_controller()"
   ]
  },
  {
   "cell_type": "code",
   "execution_count": 11,
   "metadata": {},
   "outputs": [
    {
     "name": "stderr",
     "output_type": "stream",
     "text": [
      "2024-06-27 14:09:08,676 DEBUG: Connecting devices\n"
     ]
    }
   ],
   "source": [
    "controller.connect()"
   ]
  },
  {
   "cell_type": "code",
   "execution_count": 12,
   "metadata": {},
   "outputs": [
    {
     "name": "stderr",
     "output_type": "stream",
     "text": [
      "2024-06-27 14:09:09,039 DEBUG: Checking connection state\n",
      "2024-06-27 14:09:09,078 INFO: Connection state: {'motor 1': True, 'motor 2': True}\n"
     ]
    },
    {
     "data": {
      "text/plain": [
       "{'motor 1': True, 'motor 2': True}"
      ]
     },
     "execution_count": 12,
     "metadata": {},
     "output_type": "execute_result"
    }
   ],
   "source": [
    "controller.checkConnectionState()"
   ]
  },
  {
   "cell_type": "code",
   "execution_count": 13,
   "metadata": {},
   "outputs": [
    {
     "name": "stderr",
     "output_type": "stream",
     "text": [
      "2024-06-27 14:09:09,088 DEBUG: Testing Profile Position mode\n",
      "2024-06-27 14:09:09,089 DEBUG: OD Example\n",
      "2024-06-27 14:09:09,089 DEBUG: Motor Stop (0x6040-0)\n",
      "2024-06-27 14:09:09,109 DEBUG: Reading subindex 0 of index 0x6040\n",
      "2024-06-27 14:09:09,125 DEBUG: Result: <nanotec_nanolib.Nanolib.ResultInt; proxy of <Swig Object of type 'nlc::ResultInt *' at 0x0000018871A997B0> >\n",
      "2024-06-27 14:09:09,126 DEBUG: Read Nanotec home page string\n",
      "2024-06-27 14:09:09,141 DEBUG: The home page of Nanotec Electronic GmbH & Co. KG is: <nanotec_nanolib.Nanolib.ResultString; proxy of <Swig Object of type 'nlc::ResultString *' at 0x00000188723D6F90> >\n",
      "2024-06-27 14:09:09,142 DEBUG: Read device error stack\n",
      "2024-06-27 14:09:09,157 DEBUG: The error stack has 0 elements\n",
      "2024-06-27 14:09:09,302 DEBUG: status_word = 4663\n",
      "2024-06-27 14:09:09,365 DEBUG: status_word = 4663\n",
      "2024-06-27 14:09:09,381 DEBUG: OD Example\n",
      "2024-06-27 14:09:09,382 DEBUG: Motor Stop (0x6040-0)\n",
      "2024-06-27 14:09:09,397 DEBUG: Reading subindex 0 of index 0x6040\n",
      "2024-06-27 14:09:09,413 DEBUG: Result: <nanotec_nanolib.Nanolib.ResultInt; proxy of <Swig Object of type 'nlc::ResultInt *' at 0x00000188723D6E70> >\n",
      "2024-06-27 14:09:09,414 DEBUG: Read Nanotec home page string\n",
      "2024-06-27 14:09:09,429 DEBUG: The home page of Nanotec Electronic GmbH & Co. KG is: <nanotec_nanolib.Nanolib.ResultString; proxy of <Swig Object of type 'nlc::ResultString *' at 0x0000018871E776F0> >\n",
      "2024-06-27 14:09:09,431 DEBUG: Read device error stack\n",
      "2024-06-27 14:09:09,446 DEBUG: The error stack has 0 elements\n",
      "2024-06-27 14:09:09,589 DEBUG: status_word = 37431\n",
      "2024-06-27 14:09:09,653 DEBUG: status_word = 37431\n"
     ]
    }
   ],
   "source": [
    "#controller.object_dictionary_access_examples()\n",
    "controller.test_PP()\n",
    "# controller.test_PV()"
   ]
  },
  {
   "cell_type": "code",
   "execution_count": 14,
   "metadata": {},
   "outputs": [
    {
     "name": "stderr",
     "output_type": "stream",
     "text": [
      "2024-06-27 14:09:09,676 DEBUG: Disconnecting devices\n"
     ]
    }
   ],
   "source": [
    "controller.disconnect()"
   ]
  },
  {
   "cell_type": "code",
   "execution_count": 15,
   "metadata": {},
   "outputs": [
    {
     "name": "stderr",
     "output_type": "stream",
     "text": [
      "2024-06-27 14:09:09,695 DEBUG: Checking connection state\n",
      "2024-06-27 14:09:09,696 INFO: Connection state: {'motor 1': False, 'motor 2': False}\n"
     ]
    },
    {
     "data": {
      "text/plain": [
       "{'motor 1': False, 'motor 2': False}"
      ]
     },
     "execution_count": 15,
     "metadata": {},
     "output_type": "execute_result"
    }
   ],
   "source": [
    "controller.checkConnectionState()"
   ]
  },
  {
   "cell_type": "code",
   "execution_count": 16,
   "metadata": {},
   "outputs": [
    {
     "name": "stderr",
     "output_type": "stream",
     "text": [
      "2024-06-27 14:09:09,706 DEBUG: close all\n"
     ]
    }
   ],
   "source": [
    "controller.close()"
   ]
  }
 ],
 "metadata": {
  "kernelspec": {
   "display_name": "test",
   "language": "python",
   "name": "python3"
  },
  "language_info": {
   "codemirror_mode": {
    "name": "ipython",
    "version": 3
   },
   "file_extension": ".py",
   "mimetype": "text/x-python",
   "name": "python",
   "nbconvert_exporter": "python",
   "pygments_lexer": "ipython3",
   "version": "3.9.19"
  }
 },
 "nbformat": 4,
 "nbformat_minor": 2
}
