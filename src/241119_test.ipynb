{
 "cells": [
  {
   "cell_type": "code",
   "execution_count": 1,
   "metadata": {},
   "outputs": [
    {
     "name": "stderr",
     "output_type": "stream",
     "text": [
      "2025-01-10 14:02:02 [INFO] Starting the process to find devices...\n",
      "2025-01-10 14:02:02 [INFO] Found bus hardware ID 0: BusHardwareId(wlp1s0 (Wireless interface)) [bus hardware: Network Adapter, protocol: RESTful API, hardware specifier: wlp1s0]\n",
      "2025-01-10 14:02:02 [INFO] Found bus hardware ID 1: BusHardwareId(USB Bus) [bus hardware: USB BUS, protocol: MSC, hardware specifier: UsbRoot0, extra hardware specifier: UsbBusMsc]\n",
      "2025-01-10 14:02:02 [INFO] Found bus hardware ID 2: BusHardwareId(Serial Port (/dev/ttyUSB0)) [bus hardware: Serial Port, protocol: MODBUS RTU, hardware specifier: /dev/ttyUSB0]\n",
      "2025-01-10 14:02:02 [INFO] Found bus hardware ID 3: BusHardwareId(USB Bus) [bus hardware: USB BUS, protocol: MODBUS VCP, hardware specifier: UsbRoot0, extra hardware specifier: UsbBusVcp]\n",
      "2025-01-10 14:02:02 [INFO] Found bus hardware ID 4: BusHardwareId(wlp1s0 (Wireless interface)) [bus hardware: Network Adapter, protocol: MODBUS TCP, hardware specifier: wlp1s0]\n",
      "2025-01-10 14:02:02 [INFO] Found bus hardware ID 5: BusHardwareId(wlp1s0 (Wireless interface)) [bus hardware: Network Adapter, protocol: EtherCAT, hardware specifier: wlp1s0]\n",
      "2025-01-10 14:02:02 [INFO] Selected bus hardware ID: <nanotec_nanolib.Nanolib.BusHardwareId; proxy of <Swig Object of type 'nlc::BusHardwareId *' at 0x7e21ad302370> >\n"
     ]
    },
    {
     "name": "stdout",
     "output_type": "stream",
     "text": [
      "[14:02:02.163989] [I] Setting default logging level \"Info\" to plugin \"libnanolibm_restful-api.so\".\n",
      "[14:02:02.165448] [I] Setting default logging level \"Info\" to plugin \"libnanolibm_canopen.so\".\n",
      "[14:02:02.166616] [I] Setting default logging level \"Info\" to plugin \"libnanolibm_usbmsc.so\".\n",
      "[14:02:02.168342] [I] Setting default logging level \"Info\" to plugin \"libnanolibm_modbus.so\".\n",
      "[14:02:02.169474] [I] Setting default logging level \"Info\" to plugin \"libnanolibm_ethercat.so\".\n",
      "Scan started.\n",
      "...[14:02:02.863788] [E] Timeout, waiting for message\n",
      "[14:02:02.968694] [E] Timeout, waiting for message\n",
      ".[14:02:03.071360] [E] Timeout, waiting for message\n",
      "[14:02:03.185219] [E] Timeout, waiting for message\n",
      ".[14:02:03.297756] [E] Timeout, waiting for message\n",
      ".[14:02:03.411525] [E] Timeout, waiting for message\n",
      "[14:02:03.513976] [E] Timeout, waiting for message\n",
      "[14:02:03.620638] [E] Timeout, waiting for message\n",
      ".[14:02:03.727863] [E] Timeout, waiting for message\n",
      "..[14:02:03.841219] [E] Timeout, waiting for message\n",
      "[14:02:03.953484] [E] Timeout, waiting for message\n",
      "[14:02:04.065516] [E] Timeout, waiting for message\n",
      "[14:02:04.177215] [E] Timeout, waiting for message\n",
      ".[14:02:04.291027] [E] Timeout, waiting for message\n",
      ".[14:02:04.405436] [E] Timeout, waiting for message\n",
      ".[14:02:04.520388] [E] Timeout, waiting for message\n",
      "[14:02:04.625431] [E] Timeout, waiting for message\n",
      "[14:02:04.728003] [E] Timeout, waiting for message\n",
      ".[14:02:04.834936] [E] Timeout, waiting for message\n",
      ".[14:02:04.949398] [E] Timeout, waiting for message\n",
      ".[14:02:05.062271] [E] Timeout, waiting for message\n",
      "[14:02:05.164830] [E] Timeout, waiting for message\n",
      "[14:02:05.271605] [E] Timeout, waiting for message\n",
      "..[14:02:05.384910] [E] Timeout, waiting for message\n",
      ".[14:02:05.494845] [E] Timeout, waiting for message\n",
      "[14:02:05.607917] [E] Timeout, waiting for message\n",
      "[14:02:05.711691] [E] Timeout, waiting for message\n",
      "[14:02:05.814963] [E] Timeout, waiting for message\n",
      ".[14:02:05.929511] [E] Timeout, waiting for message\n",
      ".[14:02:06.044236] [E] Timeout, waiting for message\n",
      "[14:02:06.156394] [E] Timeout, waiting for message\n",
      "[14:02:06.269945] [E] Timeout, waiting for message\n",
      "[14:02:06.382946] [E] Timeout, waiting for message\n",
      ".[14:02:06.495063] [E] Timeout, waiting for message\n",
      ".[14:02:06.608748] [E] Timeout, waiting for message\n",
      "[14:02:06.721035] [E] Timeout, waiting for message\n",
      "[14:02:06.833429] [E] Timeout, waiting for message\n",
      "[14:02:06.946909] [E] Timeout, waiting for message\n",
      ".[14:02:07.052906] [E] Timeout, waiting for message\n",
      ".[14:02:07.168036] [E] Timeout, waiting for message\n",
      "[14:02:07.271005] [E] Timeout, waiting for message\n",
      "[14:02:07.375930] [E] Timeout, waiting for message\n",
      "[14:02:07.488460] [E] Timeout, waiting for message\n",
      "..[14:02:07.597605] [E] Timeout, waiting for message\n",
      "[14:02:07.710721] [E] Timeout, waiting for message\n",
      "[14:02:07.824282] [E] Timeout, waiting for message\n",
      "[14:02:07.930639] [E] Timeout, waiting for message\n",
      "[14:02:08.035852] [E] Timeout, waiting for message\n",
      ".[14:02:08.147464] [E] Timeout, waiting for message\n",
      ".[14:02:08.261511] [E] Timeout, waiting for message\n",
      "[14:02:08.365186] [E] Timeout, waiting for message\n",
      "[14:02:08.474526] [E] Timeout, waiting for message\n",
      "[14:02:08.586159] [E] Timeout, waiting for message\n",
      ".[14:02:08.693866] [E] Timeout, waiting for message\n",
      ".[14:02:08.800806] [E] Timeout, waiting for message\n",
      "[14:02:08.903658] [E] Timeout, waiting for message\n",
      "[14:02:09.009478] [E] Timeout, waiting for message\n",
      "[14:02:09.113893] [E] Timeout, waiting for message\n",
      ".[14:02:09.227290] [E] Timeout, waiting for message\n",
      ".[14:02:09.335414] [E] Timeout, waiting for message\n",
      "[14:02:09.439111] [E] Timeout, waiting for message\n",
      ".[14:02:09.545656] [E] Timeout, waiting for message\n",
      "[14:02:09.663748] [E] Timeout, waiting for message\n",
      "..[14:02:09.776052] [E] Timeout, waiting for message\n",
      "[14:02:09.889462] [E] Timeout, waiting for message\n",
      "[14:02:09.992806] [E] Timeout, waiting for message\n",
      ".[14:02:10.096533] [E] Timeout, waiting for message\n",
      "[14:02:10.213064] [E] Timeout, waiting for message\n",
      ".[14:02:10.326879] [E] Timeout, waiting for message\n",
      ".[14:02:10.433141] [E] Timeout, waiting for message\n",
      "[14:02:10.536413] [E] Timeout, waiting for message\n",
      ".[14:02:10.643439] [E] Timeout, waiting for message\n",
      ".[14:02:10.754969] [E] Timeout, waiting for message\n",
      "[14:02:10.860913] [E] Timeout, waiting for message\n",
      ".[14:02:10.965601] [E] Timeout, waiting for message\n",
      "[14:02:11.069345] [E] Timeout, waiting for message\n",
      "[14:02:11.172121] [E] Timeout, waiting for message\n",
      "..[14:02:11.280041] [E] Timeout, waiting for message\n",
      "[14:02:11.392833] [E] Timeout, waiting for message\n",
      ".[14:02:11.506471] [E] Timeout, waiting for message\n",
      "[14:02:11.611503] [E] Timeout, waiting for message\n",
      "[14:02:11.724291] [E] Timeout, waiting for message\n",
      ".[14:02:11.835540] [E] Timeout, waiting for message\n",
      "..[14:02:11.940563] [E] Timeout, waiting for message\n",
      "[14:02:12.046939] [E] Timeout, waiting for message\n",
      "[14:02:12.159264] [E] Timeout, waiting for message\n",
      "[14:02:12.262796] [E] Timeout, waiting for message\n",
      ".[14:02:12.377074] [E] Timeout, waiting for message\n",
      ".[14:02:12.484938] [E] Timeout, waiting for message\n",
      ".[14:02:12.598996] [E] Timeout, waiting for message\n",
      "[14:02:12.702977] [E] Timeout, waiting for message\n",
      ".[14:02:12.806026] [E] Timeout, waiting for message\n",
      "[14:02:12.920893] [E] Timeout, waiting for message\n",
      ".[14:02:13.036080] [E] Timeout, waiting for message\n",
      "[14:02:13.138868] [E] Timeout, waiting for message\n",
      "[14:02:13.244903] [E] Timeout, waiting for message\n",
      "[14:02:13.357130] [E] Timeout, waiting for message\n",
      "..[14:02:13.471171] [E] Timeout, waiting for message\n",
      "[14:02:13.582513] [E] Timeout, waiting for message\n",
      "[14:02:13.684896] [E] Timeout, waiting for message\n",
      "[14:02:13.789007] [E] Timeout, waiting for message\n",
      "[14:02:13.901436] [E] Timeout, waiting for message\n",
      ".[14:02:14.017320] [E] Timeout, waiting for message\n",
      ".[14:02:14.123909] [E] Timeout, waiting for message\n",
      "[14:02:14.227452] [E] Timeout, waiting for message\n",
      "[14:02:14.339450] [E] Timeout, waiting for message\n",
      ".[14:02:14.451922] [E] Timeout, waiting for message\n",
      "[14:02:14.565981] [E] Timeout, waiting for message\n",
      ".[14:02:14.679799] [E] Timeout, waiting for message\n",
      "[14:02:14.792970] [E] Timeout, waiting for message\n",
      "[14:02:14.898654] [E] Timeout, waiting for message\n",
      "[14:02:15.003018] [E] Timeout, waiting for message\n",
      "..[14:02:15.117512] [E] Timeout, waiting for message\n",
      "[14:02:15.231185] [E] Timeout, waiting for message\n",
      "[14:02:15.333825] [E] Timeout, waiting for message\n",
      "[14:02:15.437227] [E] Timeout, waiting for message\n",
      "[14:02:15.549818] [E] Timeout, waiting for message\n",
      ".[14:02:15.654693] [E] Timeout, waiting for message\n",
      ".[14:02:15.765173] [E] Timeout, waiting for message\n",
      "[14:02:15.878553] [E] Timeout, waiting for message\n",
      "[14:02:15.985415] [E] Timeout, waiting for message\n",
      ".[14:02:16.090436] [E] Timeout, waiting for message\n",
      ".[14:02:16.198489] [E] Timeout, waiting for message\n",
      ".[14:02:16.315073] [E] Timeout, waiting for message\n",
      "[14:02:16.428633] [E] Timeout, waiting for message\n",
      "[14:02:16.536703] [E] Timeout, waiting for message\n",
      ".[14:02:16.648143] [E] Timeout, waiting for message\n",
      ".[14:02:16.761970] [E] Timeout, waiting for message\n",
      ".[14:02:16.876016] [E] Timeout, waiting for message\n",
      "[14:02:16.988570] [E] Timeout, waiting for message\n",
      ".[14:02:17.092753] [E] Timeout, waiting for message\n",
      ".[14:02:17.208648] [E] Timeout, waiting for message\n",
      ".[14:02:17.322151] [E] Timeout, waiting for message\n",
      "[14:02:17.437003] [E] Timeout, waiting for message\n",
      "[14:02:17.540168] [E] Timeout, waiting for message\n",
      "[14:02:17.644287] [E] Timeout, waiting for message\n",
      "..[14:02:17.755129] [E] Timeout, waiting for message\n",
      "[14:02:17.869140] [E] Timeout, waiting for message\n",
      ".[14:02:17.982101] [E] Timeout, waiting for message\n",
      "[14:02:18.094123] [E] Timeout, waiting for message\n",
      ".[14:02:18.205629] [E] Timeout, waiting for message\n",
      "[14:02:18.314641] [E] Timeout, waiting for message\n",
      ".[14:02:18.430180] [E] Timeout, waiting for message\n",
      ".[14:02:18.543939] [E] Timeout, waiting for message\n",
      "[14:02:18.647440] [E] Timeout, waiting for message\n",
      "[14:02:18.750543] [E] Timeout, waiting for message\n",
      ".[14:02:18.864893] [E] Timeout, waiting for message\n",
      "..[14:02:18.970425] [E] Timeout, waiting for message\n",
      "[14:02:19.084984] [E] Timeout, waiting for message\n",
      "[14:02:19.197344] [E] Timeout, waiting for message\n",
      ".[14:02:19.310051] [E] Timeout, waiting for message\n",
      ".[14:02:19.429984] [E] Timeout, waiting for message\n",
      "[14:02:19.542014] [E] Timeout, waiting for message\n",
      "[14:02:19.644420] [E] Timeout, waiting for message\n",
      "[14:02:19.747737] [E] Timeout, waiting for message\n",
      ".[14:02:19.860409] [E] Timeout, waiting for message\n",
      "[14:02:19.974546] [E] Timeout, waiting for message\n",
      ".[14:02:20.088022] [E] Timeout, waiting for message\n",
      "[14:02:20.191061] [E] Timeout, waiting for message\n",
      "[14:02:20.301685] [E] Timeout, waiting for message\n",
      ".[14:02:20.413146] [E] Timeout, waiting for message\n",
      ".[14:02:20.526601] [E] Timeout, waiting for message\n",
      "[14:02:20.636160] [E] Timeout, waiting for message\n",
      "[14:02:20.739292] [E] Timeout, waiting for message\n",
      "[14:02:20.844982] [E] Timeout, waiting for message\n",
      ".[14:02:20.957103] [E] Timeout, waiting for message\n",
      "[14:02:21.069873] [E] Timeout, waiting for message\n",
      ".[14:02:21.178918] [E] Timeout, waiting for message\n",
      "[14:02:21.290431] [E] Timeout, waiting for message\n",
      "[14:02:21.402992] [E] Timeout, waiting for message\n",
      ".[14:02:21.507554] [E] Timeout, waiting for message\n",
      "[14:02:21.613247] [E] Timeout, waiting for message\n",
      ".[14:02:21.729694] [E] Timeout, waiting for message\n",
      "[14:02:21.836919] [E] Timeout, waiting for message\n",
      "[14:02:21.940444] [E] Timeout, waiting for message\n",
      "[14:02:22.044061] [E] Timeout, waiting for message\n",
      "..[14:02:22.156910] [E] Timeout, waiting for message\n",
      "[14:02:22.269914] [E] Timeout, waiting for message\n",
      "[14:02:22.373006] [E] Timeout, waiting for message\n",
      "[14:02:22.477516] [E] Timeout, waiting for message\n",
      "[14:02:22.589557] [E] Timeout, waiting for message\n",
      "..[14:02:22.701153] [E] Timeout, waiting for message\n",
      "[14:02:22.815051] [E] Timeout, waiting for message\n",
      "[14:02:22.927293] [E] Timeout, waiting for message\n",
      "[14:02:23.035242] [E] Timeout, waiting for message\n",
      ".[14:02:23.156833] [E] Timeout, waiting for message\n",
      ".[14:02:23.261642] [E] Timeout, waiting for message\n",
      ".[14:02:23.370051] [E] Timeout, waiting for message\n",
      "[14:02:23.472737] [E] Timeout, waiting for message\n",
      ".[14:02:23.579670] [E] Timeout, waiting for message\n",
      ".[14:02:23.692934] [E] Timeout, waiting for message\n",
      "[14:02:23.807546] [E] Timeout, waiting for message\n",
      ".[14:02:23.912195] [E] Timeout, waiting for message\n",
      "[14:02:24.025552] [E] Timeout, waiting for message\n",
      ".[14:02:24.138603] [E] Timeout, waiting for message\n",
      "[14:02:24.253651] [E] Timeout, waiting for message\n",
      ".[14:02:24.369011] [E] Timeout, waiting for message\n",
      ".[14:02:24.477686] [E] Timeout, waiting for message\n",
      "[14:02:24.583028] [E] Timeout, waiting for message\n",
      "[14:02:24.686130] [E] Timeout, waiting for message\n",
      ".[14:02:24.790632] [E] Timeout, waiting for message\n",
      ".[14:02:24.906560] [E] Timeout, waiting for message\n",
      ".[14:02:25.012679] [E] Timeout, waiting for message\n",
      "[14:02:25.125888] [E] Timeout, waiting for message\n",
      "[14:02:25.229175] [E] Timeout, waiting for message\n",
      ".[14:02:25.341649] [E] Timeout, waiting for message\n",
      "..[14:02:25.455783] [E] Timeout, waiting for message\n",
      "[14:02:25.559859] [E] Timeout, waiting for message\n",
      "[14:02:25.663630] [E] Timeout, waiting for message\n",
      ".[14:02:25.767292] [E] Timeout, waiting for message\n",
      "[14:02:25.882935] [E] Timeout, waiting for message\n",
      "..[14:02:25.989595] [E] Timeout, waiting for message\n",
      "[14:02:26.097888] [E] Timeout, waiting for message\n",
      "[14:02:26.209947] [E] Timeout, waiting for message\n",
      ".[14:02:26.313612] [E] Timeout, waiting for message\n",
      ".[14:02:26.421669] [E] Timeout, waiting for message\n",
      "[14:02:26.535860] [E] Timeout, waiting for message\n",
      "[14:02:26.638659] [E] Timeout, waiting for message\n",
      "[14:02:26.744151] [E] Timeout, waiting for message\n",
      "[14:02:26.848151] [E] Timeout, waiting for message\n",
      ".[14:02:26.961055] [E] Timeout, waiting for message\n",
      ".[14:02:27.069159] [E] Timeout, waiting for message\n",
      "[14:02:27.173443] [E] Timeout, waiting for message\n",
      "[14:02:27.277777] [E] Timeout, waiting for message\n",
      "[14:02:27.390417] [E] Timeout, waiting for message\n",
      "..[14:02:27.503397] [E] Timeout, waiting for message\n",
      "[14:02:27.610352] [E] Timeout, waiting for message\n",
      "[14:02:27.714663] [E] Timeout, waiting for message\n",
      "[14:02:27.817768] [E] Timeout, waiting for message\n",
      ".[14:02:27.922032] [E] Timeout, waiting for message\n",
      "[14:02:28.027705] [E] Timeout, waiting for message\n",
      ".[14:02:28.139940] [E] Timeout, waiting for message\n",
      "[14:02:28.254292] [E] Timeout, waiting for message\n",
      "[14:02:28.358118] [E] Timeout, waiting for message\n",
      "[14:02:28.471187] [E] Timeout, waiting for message\n",
      "..[14:02:28.587153] [E] Timeout, waiting for message\n",
      "[14:02:28.700066] [E] Timeout, waiting for message\n",
      "[14:02:28.802926] [E] Timeout, waiting for message\n",
      "[14:02:28.911073] [E] Timeout, waiting for message\n",
      ".[14:02:29.023682] [E] Timeout, waiting for message\n",
      "[14:02:29.131013] [E] Timeout, waiting for message\n",
      ".[14:02:29.238247] [E] Timeout, waiting for message\n",
      "[14:02:29.340908] [E] Timeout, waiting for message\n",
      "[14:02:29.446212] [E] Timeout, waiting for message\n",
      "."
     ]
    },
    {
     "name": "stderr",
     "output_type": "stream",
     "text": [
      "2025-01-10 14:02:29 [INFO] Device 1 added successfully.\n",
      "2025-01-10 14:02:29 [INFO] Device 2 added successfully.\n",
      "2025-01-10 14:02:29 [INFO] Lookup table found: ./etc/ADC_lookup.csv\n",
      "2025-01-10 14:02:29 [INFO] Interpolation function using pchip method created.\n"
     ]
    },
    {
     "name": "stdout",
     "output_type": "stream",
     "text": [
      "\n",
      "Scan finished.\n",
      "[14:02:29.560889] [E] Timeout, waiting for message\n"
     ]
    }
   ],
   "source": [
    "from adc_actions import AdcActions\n",
    "\n",
    "controller = AdcActions()"
   ]
  },
  {
   "cell_type": "code",
   "execution_count": 2,
   "metadata": {},
   "outputs": [
    {
     "name": "stderr",
     "output_type": "stream",
     "text": [
      "2025-01-10 14:02:34 [INFO] Connecting to devices.\n",
      "2025-01-10 14:02:35 [INFO] Device 1 connected successfully.\n",
      "2025-01-10 14:02:35 [INFO] Device 2 connected successfully.\n",
      "2025-01-10 14:02:35 [INFO] Connection successful.\n"
     ]
    },
    {
     "data": {
      "text/plain": [
       "{'status': 'success', 'message': 'Connected to devices.'}"
      ]
     },
     "execution_count": 2,
     "metadata": {},
     "output_type": "execute_result"
    }
   ],
   "source": [
    "controller.connect()"
   ]
  },
  {
   "cell_type": "code",
   "execution_count": 3,
   "metadata": {},
   "outputs": [
    {
     "name": "stderr",
     "output_type": "stream",
     "text": [
      "2025-01-10 14:03:13 [INFO] Both motors moved successfully.\n"
     ]
    },
    {
     "data": {
      "text/plain": [
       "{'status': 'success',\n",
       " 'message': 'Both motors activated successfully.',\n",
       " 'motor_1': {'initial_position': 17162,\n",
       "  'final_position': 25162,\n",
       "  'position_change': 8000,\n",
       "  'execution_time': 27.815423011779785},\n",
       " 'motor_2': {'initial_position': 16802,\n",
       "  'final_position': 24803,\n",
       "  'position_change': 8001,\n",
       "  'execution_time': 27.894373178482056}}"
      ]
     },
     "execution_count": 3,
     "metadata": {},
     "output_type": "execute_result"
    }
   ],
   "source": [
    "await controller.move(0, 16200, 1)"
   ]
  },
  {
   "cell_type": "code",
   "execution_count": 4,
   "metadata": {},
   "outputs": [
    {
     "name": "stderr",
     "output_type": "stream",
     "text": [
      "2025-01-10 14:03:33 [INFO] Starting homing operation.\n",
      "2025-01-10 14:03:33 [INFO] Initializing homing process for both motors.\n",
      "2025-01-10 14:03:33 [INFO] Motor 1 homing initiated. Monitoring position changes...\n",
      "2025-01-10 14:03:34 [INFO] Motor 2 homing initiated. Monitoring position changes...\n",
      "2025-01-10 14:05:33 [INFO] Motor 1 stopped successfully.\n",
      "2025-01-10 14:05:33 [ERROR] Motor 1 halt failed.\n",
      "2025-01-10 14:05:33 [ERROR] Timeout: Motor 1 failed to find home position.\n"
     ]
    },
    {
     "ename": "TypeError",
     "evalue": "AdcLogger.error() got an unexpected keyword argument 'exc_info'",
     "output_type": "error",
     "traceback": [
      "\u001b[0;31m---------------------------------------------------------------------------\u001b[0m",
      "\u001b[0;31mTimeoutError\u001b[0m                              Traceback (most recent call last)",
      "File \u001b[0;32m~/mingyeong/kspec_adc_controller/src/adc_controller.py:494\u001b[0m, in \u001b[0;36mAdcController.find_home_position\u001b[0;34m(self, motor_id, homing_vel, sleep_time)\u001b[0m\n\u001b[1;32m    493\u001b[0m     \u001b[38;5;28mself\u001b[39m\u001b[38;5;241m.\u001b[39mlogger\u001b[38;5;241m.\u001b[39merror(\u001b[38;5;124mf\u001b[39m\u001b[38;5;124m\"\u001b[39m\u001b[38;5;124mTimeout: Motor \u001b[39m\u001b[38;5;132;01m{\u001b[39;00mmotor_id\u001b[38;5;132;01m}\u001b[39;00m\u001b[38;5;124m failed to find home position.\u001b[39m\u001b[38;5;124m\"\u001b[39m)\n\u001b[0;32m--> 494\u001b[0m     \u001b[38;5;28;01mraise\u001b[39;00m \u001b[38;5;167;01mTimeoutError\u001b[39;00m(\u001b[38;5;124mf\u001b[39m\u001b[38;5;124m\"\u001b[39m\u001b[38;5;124mMotor \u001b[39m\u001b[38;5;132;01m{\u001b[39;00mmotor_id\u001b[38;5;132;01m}\u001b[39;00m\u001b[38;5;124m failed to find home position within timeout.\u001b[39m\u001b[38;5;124m\"\u001b[39m)\n\u001b[1;32m    496\u001b[0m \u001b[38;5;28;01mawait\u001b[39;00m asyncio\u001b[38;5;241m.\u001b[39msleep(sleep_time)\n",
      "\u001b[0;31mTimeoutError\u001b[0m: Motor 1 failed to find home position within timeout.",
      "\nDuring handling of the above exception, another exception occurred:\n",
      "\u001b[0;31mTypeError\u001b[0m                                 Traceback (most recent call last)",
      "File \u001b[0;32m~/mingyeong/kspec_adc_controller/src/adc_controller.py:395\u001b[0m, in \u001b[0;36mAdcController.homing\u001b[0;34m(self)\u001b[0m\n\u001b[1;32m    394\u001b[0m \u001b[38;5;28mself\u001b[39m\u001b[38;5;241m.\u001b[39mlogger\u001b[38;5;241m.\u001b[39minfo(\u001b[38;5;124m\"\u001b[39m\u001b[38;5;124mInitializing homing process for both motors.\u001b[39m\u001b[38;5;124m\"\u001b[39m)\n\u001b[0;32m--> 395\u001b[0m \u001b[38;5;28;01mawait\u001b[39;00m asyncio\u001b[38;5;241m.\u001b[39mgather(\n\u001b[1;32m    396\u001b[0m     \u001b[38;5;28mself\u001b[39m\u001b[38;5;241m.\u001b[39mfind_home_position(\u001b[38;5;241m1\u001b[39m),\n\u001b[1;32m    397\u001b[0m     \u001b[38;5;28mself\u001b[39m\u001b[38;5;241m.\u001b[39mfind_home_position(\u001b[38;5;241m2\u001b[39m)\n\u001b[1;32m    398\u001b[0m )\n\u001b[1;32m    399\u001b[0m \u001b[38;5;66;03m# Update home positions\u001b[39;00m\n",
      "File \u001b[0;32m~/mingyeong/kspec_adc_controller/src/adc_controller.py:499\u001b[0m, in \u001b[0;36mAdcController.find_home_position\u001b[0;34m(self, motor_id, homing_vel, sleep_time)\u001b[0m\n\u001b[1;32m    498\u001b[0m \u001b[38;5;28;01mexcept\u001b[39;00m \u001b[38;5;167;01mException\u001b[39;00m \u001b[38;5;28;01mas\u001b[39;00m e:\n\u001b[0;32m--> 499\u001b[0m     \u001b[38;5;28;43mself\u001b[39;49m\u001b[38;5;241;43m.\u001b[39;49m\u001b[43mlogger\u001b[49m\u001b[38;5;241;43m.\u001b[39;49m\u001b[43merror\u001b[49m\u001b[43m(\u001b[49m\u001b[38;5;124;43mf\u001b[39;49m\u001b[38;5;124;43m\"\u001b[39;49m\u001b[38;5;124;43mError during homing for Motor \u001b[39;49m\u001b[38;5;132;43;01m{\u001b[39;49;00m\u001b[43mmotor_id\u001b[49m\u001b[38;5;132;43;01m}\u001b[39;49;00m\u001b[38;5;124;43m: \u001b[39;49m\u001b[38;5;132;43;01m{\u001b[39;49;00m\u001b[43me\u001b[49m\u001b[38;5;132;43;01m}\u001b[39;49;00m\u001b[38;5;124;43m\"\u001b[39;49m\u001b[43m,\u001b[49m\u001b[43m \u001b[49m\u001b[43mexc_info\u001b[49m\u001b[38;5;241;43m=\u001b[39;49m\u001b[38;5;28;43;01mTrue\u001b[39;49;00m\u001b[43m)\u001b[49m\n\u001b[1;32m    500\u001b[0m     \u001b[38;5;28;01mraise\u001b[39;00m\n",
      "\u001b[0;31mTypeError\u001b[0m: AdcLogger.error() got an unexpected keyword argument 'exc_info'",
      "\nDuring handling of the above exception, another exception occurred:\n",
      "\u001b[0;31mTypeError\u001b[0m                                 Traceback (most recent call last)",
      "File \u001b[0;32m~/mingyeong/kspec_adc_controller/src/adc_actions.py:264\u001b[0m, in \u001b[0;36mAdcActions.homing\u001b[0;34m(self)\u001b[0m\n\u001b[1;32m    263\u001b[0m \u001b[38;5;28mself\u001b[39m\u001b[38;5;241m.\u001b[39mlogger\u001b[38;5;241m.\u001b[39mdebug(\u001b[38;5;124m\"\u001b[39m\u001b[38;5;124mCalling homing method on controller.\u001b[39m\u001b[38;5;124m\"\u001b[39m)\n\u001b[0;32m--> 264\u001b[0m \u001b[38;5;28;01mawait\u001b[39;00m \u001b[38;5;28mself\u001b[39m\u001b[38;5;241m.\u001b[39mcontroller\u001b[38;5;241m.\u001b[39mhoming()\n\u001b[1;32m    265\u001b[0m \u001b[38;5;28mself\u001b[39m\u001b[38;5;241m.\u001b[39mlogger\u001b[38;5;241m.\u001b[39minfo(\u001b[38;5;124m\"\u001b[39m\u001b[38;5;124mHoming completed successfully.\u001b[39m\u001b[38;5;124m\"\u001b[39m)\n",
      "File \u001b[0;32m~/mingyeong/kspec_adc_controller/src/adc_controller.py:435\u001b[0m, in \u001b[0;36mAdcController.homing\u001b[0;34m(self)\u001b[0m\n\u001b[1;32m    434\u001b[0m \u001b[38;5;28;01mexcept\u001b[39;00m \u001b[38;5;167;01mException\u001b[39;00m \u001b[38;5;28;01mas\u001b[39;00m e:\n\u001b[0;32m--> 435\u001b[0m     \u001b[38;5;28;43mself\u001b[39;49m\u001b[38;5;241;43m.\u001b[39;49m\u001b[43mlogger\u001b[49m\u001b[38;5;241;43m.\u001b[39;49m\u001b[43merror\u001b[49m\u001b[43m(\u001b[49m\u001b[38;5;124;43mf\u001b[39;49m\u001b[38;5;124;43m\"\u001b[39;49m\u001b[38;5;124;43mError during homing process for motors: \u001b[39;49m\u001b[38;5;132;43;01m{\u001b[39;49;00m\u001b[43me\u001b[49m\u001b[38;5;132;43;01m}\u001b[39;49;00m\u001b[38;5;124;43m\"\u001b[39;49m\u001b[43m,\u001b[49m\u001b[43m \u001b[49m\u001b[43mexc_info\u001b[49m\u001b[38;5;241;43m=\u001b[39;49m\u001b[38;5;28;43;01mTrue\u001b[39;49;00m\u001b[43m)\u001b[49m\n\u001b[1;32m    436\u001b[0m     \u001b[38;5;28;01mraise\u001b[39;00m\n",
      "\u001b[0;31mTypeError\u001b[0m: AdcLogger.error() got an unexpected keyword argument 'exc_info'",
      "\nDuring handling of the above exception, another exception occurred:\n",
      "\u001b[0;31mTypeError\u001b[0m                                 Traceback (most recent call last)",
      "Cell \u001b[0;32mIn[4], line 1\u001b[0m\n\u001b[0;32m----> 1\u001b[0m \u001b[38;5;28;01mawait\u001b[39;00m controller\u001b[38;5;241m.\u001b[39mhoming()\n",
      "File \u001b[0;32m~/mingyeong/kspec_adc_controller/src/adc_actions.py:268\u001b[0m, in \u001b[0;36mAdcActions.homing\u001b[0;34m(self)\u001b[0m\n\u001b[1;32m    266\u001b[0m     \u001b[38;5;28;01mreturn\u001b[39;00m \u001b[38;5;28mself\u001b[39m\u001b[38;5;241m.\u001b[39m_generate_response(\u001b[38;5;124m\"\u001b[39m\u001b[38;5;124msuccess\u001b[39m\u001b[38;5;124m\"\u001b[39m, \u001b[38;5;124m\"\u001b[39m\u001b[38;5;124mHoming completed successfully.\u001b[39m\u001b[38;5;124m\"\u001b[39m)\n\u001b[1;32m    267\u001b[0m \u001b[38;5;28;01mexcept\u001b[39;00m \u001b[38;5;167;01mException\u001b[39;00m \u001b[38;5;28;01mas\u001b[39;00m e:\n\u001b[0;32m--> 268\u001b[0m     \u001b[38;5;28;43mself\u001b[39;49m\u001b[38;5;241;43m.\u001b[39;49m\u001b[43mlogger\u001b[49m\u001b[38;5;241;43m.\u001b[39;49m\u001b[43merror\u001b[49m\u001b[43m(\u001b[49m\u001b[38;5;124;43mf\u001b[39;49m\u001b[38;5;124;43m\"\u001b[39;49m\u001b[38;5;124;43mError in homing operation: \u001b[39;49m\u001b[38;5;132;43;01m{\u001b[39;49;00m\u001b[38;5;28;43mstr\u001b[39;49m\u001b[43m(\u001b[49m\u001b[43me\u001b[49m\u001b[43m)\u001b[49m\u001b[38;5;132;43;01m}\u001b[39;49;00m\u001b[38;5;124;43m\"\u001b[39;49m\u001b[43m,\u001b[49m\u001b[43m \u001b[49m\u001b[43mexc_info\u001b[49m\u001b[38;5;241;43m=\u001b[39;49m\u001b[38;5;28;43;01mTrue\u001b[39;49;00m\u001b[43m)\u001b[49m\n\u001b[1;32m    269\u001b[0m     \u001b[38;5;28;01mreturn\u001b[39;00m \u001b[38;5;28mself\u001b[39m\u001b[38;5;241m.\u001b[39m_generate_response(\u001b[38;5;124m\"\u001b[39m\u001b[38;5;124merror\u001b[39m\u001b[38;5;124m\"\u001b[39m, \u001b[38;5;28mstr\u001b[39m(e))\n",
      "\u001b[0;31mTypeError\u001b[0m: AdcLogger.error() got an unexpected keyword argument 'exc_info'"
     ]
    },
    {
     "name": "stderr",
     "output_type": "stream",
     "text": [
      "2025-01-10 14:05:34 [INFO] Motor 2 stopped successfully.\n",
      "2025-01-10 14:05:34 [ERROR] Motor 2 halt failed.\n",
      "2025-01-10 14:05:34 [ERROR] Timeout: Motor 2 failed to find home position.\n"
     ]
    }
   ],
   "source": [
    "await controller.homing()"
   ]
  },
  {
   "cell_type": "code",
   "execution_count": null,
   "metadata": {},
   "outputs": [],
   "source": [
    "await controller.zeroing()"
   ]
  },
  {
   "cell_type": "code",
   "execution_count": null,
   "metadata": {},
   "outputs": [],
   "source": [
    "controller.status()"
   ]
  }
 ],
 "metadata": {
  "kernelspec": {
   "display_name": "kspectest",
   "language": "python",
   "name": "python3"
  },
  "language_info": {
   "codemirror_mode": {
    "name": "ipython",
    "version": 3
   },
   "file_extension": ".py",
   "mimetype": "text/x-python",
   "name": "python",
   "nbconvert_exporter": "python",
   "pygments_lexer": "ipython3",
   "version": "3.12.7"
  }
 },
 "nbformat": 4,
 "nbformat_minor": 2
}
