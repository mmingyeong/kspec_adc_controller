{
 "cells": [
  {
   "cell_type": "code",
   "execution_count": 1,
   "metadata": {},
   "outputs": [
    {
     "name": "stderr",
     "output_type": "stream",
     "text": [
      "2024-12-12 17:03:30 [DEBUG] Initializing AdcActions class.\n",
      "2024-12-12 17:03:30 [DEBUG] Initializing AdcController\n",
      "2024-12-12 17:03:30 [INFO] Starting the process to find devices...\n",
      "2024-12-12 17:03:30 [INFO] ID 0: BusHardwareId(Wi-Fi (Intel(R) Wi-Fi 6E AX211 160MHz)) [bus hardware: Network Adapter, protocol: EtherCAT, hardware specifier: {0B3C66B5-CC23-40D1-997B-E4053F477E82}]\n",
      "2024-12-12 17:03:30 [INFO] ID 1: BusHardwareId(Serial Port (COM3)) [bus hardware: Serial Port, protocol: MODBUS RTU, hardware specifier: COM3]\n",
      "2024-12-12 17:03:30 [INFO] ID 2: BusHardwareId(USB Bus) [bus hardware: USB BUS, protocol: MODBUS VCP, hardware specifier: UsbRoot0, extra hardware specifier: UsbBusVcp]\n",
      "2024-12-12 17:03:30 [INFO] ID 3: BusHardwareId(Wi-Fi (Intel(R) Wi-Fi 6E AX211 160MHz)) [bus hardware: Network Adapter, protocol: MODBUS TCP, hardware specifier: {0B3C66B5-CC23-40D1-997B-E4053F477E82}]\n",
      "2024-12-12 17:03:30 [INFO] ID 4: BusHardwareId(Wi-Fi (Intel(R) Wi-Fi 6E AX211 160MHz)) [bus hardware: Network Adapter, protocol: RESTful API, hardware specifier: {0B3C66B5-CC23-40D1-997B-E4053F477E82}]\n",
      "2024-12-12 17:03:30 [INFO] ID 5: BusHardwareId(USB Bus) [bus hardware: USB BUS, protocol: MSC, hardware specifier: UsbRoot0, extra hardware specifier: UsbBusMsc]\n",
      "2024-12-12 17:03:30 [INFO] Selected bus hardware ID: <nanotec_nanolib.Nanolib.BusHardwareId; proxy of <Swig Object of type 'nlc::BusHardwareId *' at 0x000001DC7AE22370> >\n"
     ]
    },
    {
     "name": "stdout",
     "output_type": "stream",
     "text": [
      "Scan started.\n",
      "............................................................................................................................."
     ]
    },
    {
     "name": "stderr",
     "output_type": "stream",
     "text": [
      "2024-12-12 17:03:57 [INFO] Device 1 added successfully.\n",
      "2024-12-12 17:03:57 [INFO] Device 2 added successfully.\n",
      "2024-12-12 17:03:57 [INFO] Lookup table found: ./etc/ADC_lookup.csv\n",
      "2024-12-12 17:03:57 [INFO] Zenith angle-ADC angle interpolation function created\n"
     ]
    },
    {
     "name": "stdout",
     "output_type": "stream",
     "text": [
      "\n",
      "Scan finished.\n"
     ]
    }
   ],
   "source": [
    "from adc_actions import AdcActions\n",
    "\n",
    "controller = AdcActions()"
   ]
  },
  {
   "cell_type": "code",
   "execution_count": 5,
   "metadata": {},
   "outputs": [
    {
     "name": "stderr",
     "output_type": "stream",
     "text": [
      "2024-12-12 17:04:37 [INFO] Retrieving status for motor 0.\n",
      "2024-12-12 17:04:37 [INFO] Device states: {'motor1': {'position_state': 0, 'connection_state': True}, 'motor2': {'position_state': 0, 'connection_state': True}}\n",
      "2024-12-12 17:04:37 [INFO] Motor 0 status: {'motor1': {'position_state': 0, 'connection_state': True}, 'motor2': {'position_state': 0, 'connection_state': True}}\n"
     ]
    },
    {
     "data": {
      "text/plain": [
       "{'status': 'success',\n",
       " 'message': 'Motor 0 status retrieved.',\n",
       " 'DeviceState': {'motor1': {'position_state': 0, 'connection_state': True},\n",
       "  'motor2': {'position_state': 0, 'connection_state': True}}}"
      ]
     },
     "execution_count": 5,
     "metadata": {},
     "output_type": "execute_result"
    }
   ],
   "source": [
    "controller.status()"
   ]
  },
  {
   "cell_type": "code",
   "execution_count": 3,
   "metadata": {},
   "outputs": [
    {
     "name": "stderr",
     "output_type": "stream",
     "text": [
      "2024-12-12 17:04:04 [INFO] Activating motors. za_angle={za_angle}\n",
      "2024-12-12 17:04:04 [DEBUG] Converted -24.7047106312714 degrees to -1111 counts.\n",
      "2024-12-12 17:04:04 [INFO] Device 1 connected successfully.\n",
      "2024-12-12 17:04:04 [INFO] Device 2 connected successfully.\n",
      "2024-12-12 17:04:04 [DEBUG] Moving Motor 1 to position -1111 with velocity 5\n",
      "2024-12-12 17:04:04 [DEBUG] Moving Motor 2 to position 1111 with velocity 5\n",
      "2024-12-12 17:04:08 [INFO] Motors activated successfully.\n"
     ]
    }
   ],
   "source": [
    "# 비동기 함수 호출\n",
    "zenith_angle = 27  # 0-60\n",
    "response = await controller.activate(zenith_angle)"
   ]
  },
  {
   "cell_type": "code",
   "execution_count": 4,
   "metadata": {},
   "outputs": [
    {
     "name": "stderr",
     "output_type": "stream",
     "text": [
      "2024-12-12 17:04:17 [INFO] Starting homing operation.\n",
      "2024-12-12 17:04:17 [DEBUG] Starting the homing process for both motors...\n",
      "2024-12-12 17:04:17 [INFO] Motor 1 target position calculated as: 3044\n",
      "2024-12-12 17:04:17 [INFO] Motor 2 target position calculated as: -3044\n",
      "2024-12-12 17:04:27 [INFO] Motor 1 move result: {'initial_position': 4294964252, 'final_position': 0, 'position_change': -4294964252, 'execution_time': 10.578551292419434}\n",
      "2024-12-12 17:04:27 [INFO] Motor 2 move result: {'initial_position': 3044, 'final_position': 4294967294, 'position_change': 4294964250, 'execution_time': 10.609933376312256}\n",
      "2024-12-12 17:04:27 [INFO] Homing process completed in 10.65 seconds\n",
      "2024-12-12 17:04:27 [INFO] Homing completed successfully.\n"
     ]
    },
    {
     "name": "stderr",
     "output_type": "stream",
     "text": [
      "2024-12-12 17:04:17 [DEBUG] Moving Motor 1 to position 3044 with velocity 5\n",
      "2024-12-12 17:04:17 [DEBUG] Moving Motor 2 to position -3044 with velocity 5\n"
     ]
    },
    {
     "data": {
      "text/plain": [
       "{'status': 'success', 'message': 'Homing completed.'}"
      ]
     },
     "execution_count": 4,
     "metadata": {},
     "output_type": "execute_result"
    }
   ],
   "source": [
    "await controller.homing()"
   ]
  },
  {
   "cell_type": "code",
   "execution_count": 6,
   "metadata": {},
   "outputs": [
    {
     "name": "stderr",
     "output_type": "stream",
     "text": [
      "2024-12-12 17:04:45 [INFO] Powering off and disconnecting from devices.\n",
      "2024-12-12 17:04:45 [INFO] Device 1 disconnected successfully.\n",
      "2024-12-12 17:04:45 [INFO] Device 2 disconnected successfully.\n",
      "2024-12-12 17:04:45 [DEBUG] Closing all devices...\n",
      "2024-12-12 17:04:45 [INFO] Bus hardware closed successfully.\n",
      "2024-12-12 17:04:45 [INFO] Power off successful.\n"
     ]
    },
    {
     "data": {
      "text/plain": [
       "{'status': 'success', 'message': 'Power off and devices disconnected.'}"
      ]
     },
     "execution_count": 6,
     "metadata": {},
     "output_type": "execute_result"
    }
   ],
   "source": [
    "controller.power_off()"
   ]
  }
 ],
 "metadata": {
  "kernelspec": {
   "display_name": "kspectest",
   "language": "python",
   "name": "python3"
  },
  "language_info": {
   "codemirror_mode": {
    "name": "ipython",
    "version": 3
   },
   "file_extension": ".py",
   "mimetype": "text/x-python",
   "name": "python",
   "nbconvert_exporter": "python",
   "pygments_lexer": "ipython3",
   "version": "3.12.7"
  }
 },
 "nbformat": 4,
 "nbformat_minor": 2
}
