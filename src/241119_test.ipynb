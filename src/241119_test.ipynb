{
 "cells": [
  {
   "cell_type": "code",
   "execution_count": 1,
   "metadata": {},
   "outputs": [
    {
     "name": "stderr",
     "output_type": "stream",
     "text": [
      "2024-11-22 13:22:51,990 DEBUG: Initializing adc_controller\n"
     ]
    }
   ],
   "source": [
    "from adc_controller import adc_controller\n",
    "\n",
    "controller = adc_controller()"
   ]
  },
  {
   "cell_type": "code",
   "execution_count": 2,
   "metadata": {},
   "outputs": [
    {
     "name": "stderr",
     "output_type": "stream",
     "text": [
      "2024-11-22 13:22:53,184 INFO: Starting the process to find devices...\n",
      "2024-11-22 13:22:53,187 INFO: Calling listAvailableBusHardware()...\n",
      "2024-11-22 13:22:53,293 INFO: Number of available bus hardware IDs: 6\n",
      "2024-11-22 13:22:53,294 INFO: Available Bus Hardware IDs:\n",
      "2024-11-22 13:22:53,296 INFO: ID 0: BusHardwareId(Serial Port (/dev/ttyUSB0)) [bus hardware: Serial Port, protocol: MODBUS RTU, hardware specifier: /dev/ttyUSB0]\n",
      "2024-11-22 13:22:53,296 INFO: ID 1: BusHardwareId(USB Bus) [bus hardware: USB BUS, protocol: MODBUS VCP, hardware specifier: UsbRoot0, extra hardware specifier: UsbBusVcp]\n",
      "2024-11-22 13:22:53,297 INFO: ID 2: BusHardwareId(wlp0s20f3 (Wireless interface)) [bus hardware: Network Adapter, protocol: MODBUS TCP, hardware specifier: wlp0s20f3]\n",
      "2024-11-22 13:22:53,298 INFO: ID 3: BusHardwareId(USB Bus) [bus hardware: USB BUS, protocol: MSC, hardware specifier: UsbRoot0, extra hardware specifier: UsbBusMsc]\n",
      "2024-11-22 13:22:53,298 INFO: ID 4: BusHardwareId(wlp0s20f3 (Wireless interface)) [bus hardware: Network Adapter, protocol: RESTful API, hardware specifier: wlp0s20f3]\n",
      "2024-11-22 13:22:53,299 INFO: ID 5: BusHardwareId(wlp0s20f3 (Wireless interface)) [bus hardware: Network Adapter, protocol: EtherCAT, hardware specifier: wlp0s20f3]\n",
      "2024-11-22 13:22:53,299 INFO: Selecting bus hardware ID at index 0.\n",
      "2024-11-22 13:22:53,300 INFO: Selected bus hardware ID: <nanotec_nanolib.Nanolib.BusHardwareId; proxy of <Swig Object of type 'nlc::BusHardwareId *' at 0x70bcc4beaa90> >\n",
      "2024-11-22 13:22:53,300 INFO: Configuring ADC motor options...\n",
      "2024-11-22 13:22:53,301 INFO: ADC motor options configured successfully.\n",
      "2024-11-22 13:22:53,302 INFO: Opening bus hardware with protocol...\n",
      "2024-11-22 13:22:53,316 INFO: Bus hardware opened successfully.\n",
      "2024-11-22 13:22:53,318 INFO: Scanning for devices on the bus...\n"
     ]
    },
    {
     "name": "stdout",
     "output_type": "stream",
     "text": [
      "[13:22:53.193519] [I] Setting default logging level \"Info\" to plugin \"libnanolibm_modbus.so\".\n",
      "[13:22:53.195388] [I] Setting default logging level \"Info\" to plugin \"libnanolibm_canopen.so\".\n",
      "[13:22:53.196870] [I] Setting default logging level \"Info\" to plugin \"libnanolibm_usbmsc.so\".\n",
      "[13:22:53.198720] [I] Setting default logging level \"Info\" to plugin \"libnanolibm_restful-api.so\".\n",
      "[13:22:53.200290] [I] Setting default logging level \"Info\" to plugin \"libnanolibm_ethercat.so\".\n",
      "Scan started.\n",
      "...[13:22:53.791586] [E] Timeout, waiting for message\n",
      "[13:22:53.903692] [E] Timeout, waiting for message\n",
      ".[13:22:54.015913] [E] Timeout, waiting for message\n",
      "[13:22:54.131208] [E] Timeout, waiting for message\n",
      ".[13:22:54.244720] [E] Timeout, waiting for message\n",
      ".[13:22:54.358541] [E] Timeout, waiting for message\n",
      "[13:22:54.471081] [E] Timeout, waiting for message\n",
      "[13:22:54.582959] [E] Timeout, waiting for message\n",
      "..[13:22:54.696939] [E] Timeout, waiting for message\n",
      ".[13:22:54.810691] [E] Timeout, waiting for message\n",
      "[13:22:54.924684] [E] Timeout, waiting for message\n",
      "[13:22:55.037304] [E] Timeout, waiting for message\n",
      ".[13:22:55.149283] [E] Timeout, waiting for message\n",
      ".[13:22:55.263584] [E] Timeout, waiting for message\n",
      ".[13:22:55.377908] [E] Timeout, waiting for message\n",
      "[13:22:55.491427] [E] Timeout, waiting for message\n",
      "[13:22:55.604048] [E] Timeout, waiting for message\n",
      "[13:22:55.715750] [E] Timeout, waiting for message\n",
      "..[13:22:55.829448] [E] Timeout, waiting for message\n",
      ".[13:22:55.943117] [E] Timeout, waiting for message\n",
      "[13:22:56.056820] [E] Timeout, waiting for message\n",
      "[13:22:56.169053] [E] Timeout, waiting for message\n",
      "[13:22:56.282260] [E] Timeout, waiting for message\n",
      ".[13:22:56.397441] [E] Timeout, waiting for message\n",
      ".[13:22:56.511885] [E] Timeout, waiting for message\n",
      ".[13:22:56.626400] [E] Timeout, waiting for message\n",
      "[13:22:56.738571] [E] Timeout, waiting for message\n",
      ".[13:22:56.851222] [E] Timeout, waiting for message\n",
      "[13:22:56.965805] [E] Timeout, waiting for message\n",
      ".[13:22:57.080049] [E] Timeout, waiting for message\n",
      "[13:22:57.192884] [E] Timeout, waiting for message\n",
      "[13:22:57.305025] [E] Timeout, waiting for message\n",
      ".[13:22:57.417434] [E] Timeout, waiting for message\n",
      "[13:22:57.531418] [E] Timeout, waiting for message\n",
      ".[13:22:57.645639] [E] Timeout, waiting for message\n",
      "[13:22:57.757584] [E] Timeout, waiting for message\n",
      "[13:22:57.869749] [E] Timeout, waiting for message\n",
      ".[13:22:57.981618] [E] Timeout, waiting for message\n",
      ".[13:22:58.094608] [E] Timeout, waiting for message\n",
      "[13:22:58.208820] [E] Timeout, waiting for message\n",
      "[13:22:58.320875] [E] Timeout, waiting for message\n",
      "[13:22:58.432887] [E] Timeout, waiting for message\n",
      ".[13:22:58.544908] [E] Timeout, waiting for message\n",
      ".[13:22:58.658081] [E] Timeout, waiting for message\n",
      "[13:22:58.772062] [E] Timeout, waiting for message\n",
      "[13:22:58.884612] [E] Timeout, waiting for message\n",
      "[13:22:58.996784] [E] Timeout, waiting for message\n",
      ".[13:22:59.109006] [E] Timeout, waiting for message\n",
      ".[13:22:59.223709] [E] Timeout, waiting for message\n",
      "[13:22:59.337745] [E] Timeout, waiting for message\n",
      "[13:22:59.449599] [E] Timeout, waiting for message\n",
      "[13:22:59.562125] [E] Timeout, waiting for message\n",
      "[13:22:59.675000] [E] Timeout, waiting for message\n",
      ".[13:22:59.788742] [E] Timeout, waiting for message\n",
      ".[13:22:59.903525] [E] Timeout, waiting for message\n",
      "[13:23:00.016146] [E] Timeout, waiting for message\n",
      "[13:23:00.128320] [E] Timeout, waiting for message\n",
      "[13:23:00.240458] [E] Timeout, waiting for message\n",
      "..[13:23:00.353927] [E] Timeout, waiting for message\n",
      "[13:23:00.468973] [E] Timeout, waiting for message\n",
      "[13:23:00.580738] [E] Timeout, waiting for message\n",
      ".[13:23:00.692686] [E] Timeout, waiting for message\n",
      ".[13:23:00.807309] [E] Timeout, waiting for message\n",
      "[13:23:00.922279] [E] Timeout, waiting for message\n",
      ".[13:23:01.035516] [E] Timeout, waiting for message\n",
      "[13:23:01.148089] [E] Timeout, waiting for message\n",
      ".[13:23:01.261419] [E] Timeout, waiting for message\n",
      "[13:23:01.375072] [E] Timeout, waiting for message\n",
      ".[13:23:01.488977] [E] Timeout, waiting for message\n",
      ".[13:23:01.603133] [E] Timeout, waiting for message\n",
      "[13:23:01.715854] [E] Timeout, waiting for message\n",
      ".[13:23:01.827929] [E] Timeout, waiting for message\n",
      "[13:23:01.941372] [E] Timeout, waiting for message\n",
      ".[13:23:02.055792] [E] Timeout, waiting for message\n",
      ".[13:23:02.169852] [E] Timeout, waiting for message\n",
      "[13:23:02.281873] [E] Timeout, waiting for message\n",
      ".[13:23:02.394105] [E] Timeout, waiting for message\n",
      "[13:23:02.508094] [E] Timeout, waiting for message\n",
      "..[13:23:02.621647] [E] Timeout, waiting for message\n",
      "[13:23:02.736175] [E] Timeout, waiting for message\n",
      "[13:23:02.848746] [E] Timeout, waiting for message\n",
      "[13:23:02.951250] [E] Timeout, waiting for message\n",
      "..[13:23:03.065575] [E] Timeout, waiting for message\n",
      "[13:23:03.179634] [E] Timeout, waiting for message\n",
      ".[13:23:03.292956] [E] Timeout, waiting for message\n",
      "[13:23:03.404963] [E] Timeout, waiting for message\n",
      ".[13:23:03.517599] [E] Timeout, waiting for message\n",
      "[13:23:03.631081] [E] Timeout, waiting for message\n",
      "..[13:23:03.744444] [E] Timeout, waiting for message\n",
      "[13:23:03.859127] [E] Timeout, waiting for message\n",
      "[13:23:03.971130] [E] Timeout, waiting for message\n",
      ".[13:23:04.083048] [E] Timeout, waiting for message\n",
      ".[13:23:04.196695] [E] Timeout, waiting for message\n",
      "[13:23:04.310737] [E] Timeout, waiting for message\n",
      "[13:23:04.422657] [E] Timeout, waiting for message\n",
      "[13:23:04.534858] [E] Timeout, waiting for message\n",
      ".[13:23:04.646704] [E] Timeout, waiting for message\n",
      ".[13:23:04.759861] [E] Timeout, waiting for message\n",
      "[13:23:04.873292] [E] Timeout, waiting for message\n",
      "[13:23:04.985312] [E] Timeout, waiting for message\n",
      "[13:23:05.098121] [E] Timeout, waiting for message\n",
      ".[13:23:05.210233] [E] Timeout, waiting for message\n",
      ".[13:23:05.323954] [E] Timeout, waiting for message\n",
      "[13:23:05.437814] [E] Timeout, waiting for message\n",
      "[13:23:05.550429] [E] Timeout, waiting for message\n",
      "[13:23:05.662642] [E] Timeout, waiting for message\n",
      ".[13:23:05.774741] [E] Timeout, waiting for message\n",
      "[13:23:05.887856] [E] Timeout, waiting for message\n",
      ".[13:23:06.001823] [E] Timeout, waiting for message\n",
      "[13:23:06.113889] [E] Timeout, waiting for message\n",
      "[13:23:06.225504] [E] Timeout, waiting for message\n",
      "[13:23:06.337323] [E] Timeout, waiting for message\n",
      ".[13:23:06.450896] [E] Timeout, waiting for message\n",
      ".[13:23:06.565104] [E] Timeout, waiting for message\n",
      "[13:23:06.677238] [E] Timeout, waiting for message\n",
      "[13:23:06.789645] [E] Timeout, waiting for message\n",
      "[13:23:06.901909] [E] Timeout, waiting for message\n",
      ".[13:23:07.015458] [E] Timeout, waiting for message\n",
      ".[13:23:07.129941] [E] Timeout, waiting for message\n",
      "[13:23:07.243013] [E] Timeout, waiting for message\n",
      "[13:23:07.346461] [E] Timeout, waiting for message\n",
      "..[13:23:07.460464] [E] Timeout, waiting for message\n",
      ".[13:23:07.574651] [E] Timeout, waiting for message\n",
      "[13:23:07.689027] [E] Timeout, waiting for message\n",
      "[13:23:07.801159] [E] Timeout, waiting for message\n",
      "[13:23:07.913147] [E] Timeout, waiting for message\n",
      ".[13:23:08.026414] [E] Timeout, waiting for message\n",
      ".[13:23:08.140433] [E] Timeout, waiting for message\n",
      ".[13:23:08.254950] [E] Timeout, waiting for message\n",
      "[13:23:08.367788] [E] Timeout, waiting for message\n",
      ".[13:23:08.479920] [E] Timeout, waiting for message\n",
      "[13:23:08.593859] [E] Timeout, waiting for message\n",
      ".[13:23:08.707712] [E] Timeout, waiting for message\n",
      ".[13:23:08.813316] [E] Timeout, waiting for message\n",
      "[13:23:08.925867] [E] Timeout, waiting for message\n",
      ".[13:23:09.038063] [E] Timeout, waiting for message\n",
      ".[13:23:09.151811] [E] Timeout, waiting for message\n",
      ".[13:23:09.265864] [E] Timeout, waiting for message\n",
      "[13:23:09.378834] [E] Timeout, waiting for message\n",
      "[13:23:09.490733] [E] Timeout, waiting for message\n",
      "[13:23:09.602626] [E] Timeout, waiting for message\n",
      "..[13:23:09.716165] [E] Timeout, waiting for message\n",
      ".[13:23:09.829753] [E] Timeout, waiting for message\n",
      "[13:23:09.943020] [E] Timeout, waiting for message\n",
      "[13:23:10.055337] [E] Timeout, waiting for message\n",
      ".[13:23:10.167390] [E] Timeout, waiting for message\n",
      ".[13:23:10.280897] [E] Timeout, waiting for message\n",
      ".[13:23:10.394230] [E] Timeout, waiting for message\n",
      "[13:23:10.507572] [E] Timeout, waiting for message\n",
      "[13:23:10.619607] [E] Timeout, waiting for message\n",
      "[13:23:10.731731] [E] Timeout, waiting for message\n",
      "..[13:23:10.845739] [E] Timeout, waiting for message\n",
      "[13:23:10.959863] [E] Timeout, waiting for message\n",
      "[13:23:11.071796] [E] Timeout, waiting for message\n",
      "[13:23:11.183734] [E] Timeout, waiting for message\n",
      "[13:23:11.295765] [E] Timeout, waiting for message\n",
      "..[13:23:11.409267] [E] Timeout, waiting for message\n",
      "[13:23:11.523830] [E] Timeout, waiting for message\n",
      "[13:23:11.635730] [E] Timeout, waiting for message\n",
      "[13:23:11.748502] [E] Timeout, waiting for message\n",
      "[13:23:11.860991] [E] Timeout, waiting for message\n",
      "..[13:23:11.974502] [E] Timeout, waiting for message\n",
      "[13:23:12.088585] [E] Timeout, waiting for message\n",
      "[13:23:12.200739] [E] Timeout, waiting for message\n",
      "[13:23:12.312471] [E] Timeout, waiting for message\n",
      ".[13:23:12.424013] [E] Timeout, waiting for message\n",
      ".[13:23:12.537006] [E] Timeout, waiting for message\n",
      "[13:23:12.650800] [E] Timeout, waiting for message\n",
      "[13:23:12.763069] [E] Timeout, waiting for message\n",
      "[13:23:12.875079] [E] Timeout, waiting for message\n",
      ".[13:23:12.987444] [E] Timeout, waiting for message\n",
      ".[13:23:13.101117] [E] Timeout, waiting for message\n",
      "[13:23:13.214660] [E] Timeout, waiting for message\n",
      "[13:23:13.327410] [E] Timeout, waiting for message\n",
      "[13:23:13.440142] [E] Timeout, waiting for message\n",
      "[13:23:13.552172] [E] Timeout, waiting for message\n",
      ".[13:23:13.665857] [E] Timeout, waiting for message\n",
      ".[13:23:13.779607] [E] Timeout, waiting for message\n",
      "[13:23:13.892027] [E] Timeout, waiting for message\n",
      "[13:23:14.005144] [E] Timeout, waiting for message\n",
      ".[13:23:14.117553] [E] Timeout, waiting for message\n",
      "[13:23:14.231782] [E] Timeout, waiting for message\n",
      ".[13:23:14.346140] [E] Timeout, waiting for message\n",
      "[13:23:14.458931] [E] Timeout, waiting for message\n",
      "[13:23:14.561683] [E] Timeout, waiting for message\n",
      ".[13:23:14.676004] [E] Timeout, waiting for message\n",
      ".[13:23:14.790404] [E] Timeout, waiting for message\n",
      ".[13:23:14.903833] [E] Timeout, waiting for message\n",
      "[13:23:15.015894] [E] Timeout, waiting for message\n",
      ".[13:23:15.128586] [E] Timeout, waiting for message\n",
      ".[13:23:15.232658] [E] Timeout, waiting for message\n",
      ".[13:23:15.347215] [E] Timeout, waiting for message\n",
      "[13:23:15.460869] [E] Timeout, waiting for message\n",
      "[13:23:15.572734] [E] Timeout, waiting for message\n",
      "[13:23:15.684685] [E] Timeout, waiting for message\n",
      ".[13:23:15.799041] [E] Timeout, waiting for message\n",
      ".[13:23:15.913080] [E] Timeout, waiting for message\n",
      ".[13:23:16.026852] [E] Timeout, waiting for message\n",
      "[13:23:16.139262] [E] Timeout, waiting for message\n",
      ".[13:23:16.251418] [E] Timeout, waiting for message\n",
      ".[13:23:16.364583] [E] Timeout, waiting for message\n",
      ".[13:23:16.477936] [E] Timeout, waiting for message\n",
      "[13:23:16.591589] [E] Timeout, waiting for message\n",
      "[13:23:16.703531] [E] Timeout, waiting for message\n",
      ".[13:23:16.815473] [E] Timeout, waiting for message\n",
      "[13:23:16.929921] [E] Timeout, waiting for message\n",
      "..[13:23:17.044072] [E] Timeout, waiting for message\n",
      "[13:23:17.158443] [E] Timeout, waiting for message\n",
      "[13:23:17.270750] [E] Timeout, waiting for message\n",
      "[13:23:17.383183] [E] Timeout, waiting for message\n",
      ".[13:23:17.496410] [E] Timeout, waiting for message\n",
      "..[13:23:17.610284] [E] Timeout, waiting for message\n",
      "[13:23:17.724015] [E] Timeout, waiting for message\n",
      "[13:23:17.836576] [E] Timeout, waiting for message\n",
      ".[13:23:17.948600] [E] Timeout, waiting for message\n",
      ".[13:23:18.061688] [E] Timeout, waiting for message\n",
      "[13:23:18.175568] [E] Timeout, waiting for message\n",
      "[13:23:18.287413] [E] Timeout, waiting for message\n",
      "[13:23:18.399797] [E] Timeout, waiting for message\n",
      "[13:23:18.512001] [E] Timeout, waiting for message\n",
      "..[13:23:18.625465] [E] Timeout, waiting for message\n",
      "[13:23:18.740278] [E] Timeout, waiting for message\n",
      "[13:23:18.851943] [E] Timeout, waiting for message\n",
      "[13:23:18.963979] [E] Timeout, waiting for message\n",
      "[13:23:19.076084] [E] Timeout, waiting for message\n",
      "..[13:23:19.189840] [E] Timeout, waiting for message\n",
      "[13:23:19.303891] [E] Timeout, waiting for message\n",
      "[13:23:19.415529] [E] Timeout, waiting for message\n",
      "[13:23:19.527243] [E] Timeout, waiting for message\n",
      "[13:23:19.639354] [E] Timeout, waiting for message\n",
      "..[13:23:19.753367] [E] Timeout, waiting for message\n",
      "[13:23:19.857561] [E] Timeout, waiting for message\n",
      "[13:23:19.970375] [E] Timeout, waiting for message\n",
      "[13:23:20.073353] [E] Timeout, waiting for message\n",
      "[13:23:20.185745] [E] Timeout, waiting for message\n",
      "..[13:23:20.299583] [E] Timeout, waiting for message\n",
      "[13:23:20.413973] [E] Timeout, waiting for message\n",
      "[13:23:20.526506] [E] Timeout, waiting for message\n",
      "[13:23:20.638565] [E] Timeout, waiting for message\n",
      ".[13:23:20.750817] [E] Timeout, waiting for message\n",
      ".[13:23:20.863877] [E] Timeout, waiting for message\n",
      "[13:23:20.978649] [E] Timeout, waiting for message\n",
      "[13:23:21.090719] [E] Timeout, waiting for message\n",
      ".[13:23:21.202655] [E] Timeout, waiting for message\n"
     ]
    },
    {
     "name": "stderr",
     "output_type": "stream",
     "text": [
      "2024-11-22 13:23:21,317 INFO: Number of devices found: 2\n",
      "2024-11-22 13:23:21,318 INFO: Device IDs found:\n",
      "2024-11-22 13:23:21,319 INFO: ID 0: <nanotec_nanolib.Nanolib.DeviceId; proxy of <Swig Object of type 'nlc::DeviceId *' at 0x70bcc4b7f540> >\n",
      "2024-11-22 13:23:21,320 INFO: ID 1: <nanotec_nanolib.Nanolib.DeviceId; proxy of <Swig Object of type 'nlc::DeviceId *' at 0x70bcc415f150> >\n",
      "2024-11-22 13:23:21,321 INFO: Adding devices to the system...\n",
      "2024-11-22 13:23:21,322 INFO: Device 1 added successfully with handle: <nanotec_nanolib.Nanolib.DeviceHandle; proxy of <Swig Object of type 'nlc::DeviceHandle *' at 0x70bcc415d170> >\n",
      "2024-11-22 13:23:21,323 INFO: Device 2 added successfully with handle: <nanotec_nanolib.Nanolib.DeviceHandle; proxy of <Swig Object of type 'nlc::DeviceHandle *' at 0x70bcc7657150> >\n",
      "2024-11-22 13:23:21,324 INFO: Initializing device connection statuses...\n",
      "2024-11-22 13:23:21,325 INFO: Device connection statuses initialized. Process completed successfully.\n"
     ]
    },
    {
     "name": "stdout",
     "output_type": "stream",
     "text": [
      "\n",
      "Scan finished.\n",
      "[13:23:21.316901] [E] Timeout, waiting for message\n"
     ]
    }
   ],
   "source": [
    "controller.find_devices()"
   ]
  },
  {
   "cell_type": "code",
   "execution_count": 3,
   "metadata": {},
   "outputs": [
    {
     "name": "stderr",
     "output_type": "stream",
     "text": [
      "2024-11-22 13:23:24,973 DEBUG: Checking device and connection states, including Modbus RTU network status\n",
      "2024-11-22 13:23:24,976 INFO: Device states: {'motor1': {'connection_state': False, 'device_state': '', 'extra_state': False}, 'motor2': {'connection_state': False, 'device_state': '', 'extra_state': False}}\n"
     ]
    },
    {
     "data": {
      "text/plain": [
       "{'motor1': {'connection_state': False,\n",
       "  'device_state': '',\n",
       "  'extra_state': False},\n",
       " 'motor2': {'connection_state': False,\n",
       "  'device_state': '',\n",
       "  'extra_state': False}}"
      ]
     },
     "execution_count": 3,
     "metadata": {},
     "output_type": "execute_result"
    }
   ],
   "source": [
    "controller.device_state()"
   ]
  },
  {
   "cell_type": "code",
   "execution_count": 4,
   "metadata": {},
   "outputs": [
    {
     "name": "stderr",
     "output_type": "stream",
     "text": [
      "2024-11-22 13:23:27,490 DEBUG: Connecting devices\n",
      "2024-11-22 13:23:27,661 INFO: Device 1 connected successfully.\n",
      "2024-11-22 13:23:27,837 INFO: Device 2 connected successfully.\n"
     ]
    }
   ],
   "source": [
    "controller.connect()"
   ]
  },
  {
   "cell_type": "code",
   "execution_count": 5,
   "metadata": {},
   "outputs": [
    {
     "name": "stderr",
     "output_type": "stream",
     "text": [
      "2024-11-22 13:23:28,894 DEBUG: Reading position of Motor 1\n",
      "2024-11-22 13:23:28,908 INFO: Motor 1 current position: 0\n",
      "2024-11-22 13:23:28,910 DEBUG: Reading position of Motor 2\n",
      "2024-11-22 13:23:28,924 INFO: Motor 2 current position: 0\n"
     ]
    },
    {
     "data": {
      "text/plain": [
       "0"
      ]
     },
     "execution_count": 5,
     "metadata": {},
     "output_type": "execute_result"
    }
   ],
   "source": [
    "controller.read_motor_position(1)\n",
    "controller.read_motor_position(2)"
   ]
  },
  {
   "cell_type": "code",
   "execution_count": 6,
   "metadata": {},
   "outputs": [
    {
     "name": "stderr",
     "output_type": "stream",
     "text": [
      "2024-11-22 13:23:35,137 DEBUG: Moving Motor 1 to position -4050 with velocity 5\n",
      "2024-11-22 13:23:35,193 INFO: Modes of operation display: 1\n",
      "2024-11-22 13:23:35,209 INFO: <nanotec_nanolib.Nanolib.ResultVoid; proxy of <Swig Object of type 'nlc::ResultVoid *' at 0x70bcc415dec0> >\n",
      "2024-11-22 13:23:35,241 INFO: <nanotec_nanolib.Nanolib.ResultVoid; proxy of <Swig Object of type 'nlc::ResultVoid *' at 0x70bcc4160a50> >\n",
      "2024-11-22 13:23:35,257 INFO: <nanotec_nanolib.Nanolib.ResultVoid; proxy of <Swig Object of type 'nlc::ResultVoid *' at 0x70bcc415f240> >\n",
      "2024-11-22 13:23:35,273 INFO: <nanotec_nanolib.Nanolib.ResultVoid; proxy of <Swig Object of type 'nlc::ResultVoid *' at 0x70bcc4160330> >\n",
      "2024-11-22 13:23:35,289 INFO: <nanotec_nanolib.Nanolib.ResultVoid; proxy of <Swig Object of type 'nlc::ResultVoid *' at 0x70bcc415dec0> >\n",
      "2024-11-22 13:23:35,305 INFO: <nanotec_nanolib.Nanolib.ResultVoid; proxy of <Swig Object of type 'nlc::ResultVoid *' at 0x70bcc4160330> >\n",
      "2024-11-22 13:23:35,321 DEBUG: Motor 1 status_word = 4663\n",
      "2024-11-22 13:23:40,343 DEBUG: Motor 1 status_word = 4663\n",
      "2024-11-22 13:23:45,365 DEBUG: Motor 1 status_word = 4663\n",
      "2024-11-22 13:23:50,386 DEBUG: Motor 1 status_word = 5687\n",
      "2024-11-22 13:23:50,387 INFO: Motor 1 reached target position.\n",
      "2024-11-22 13:23:50,402 INFO: Total execution time for move_motor (Motor 1): 15.26 seconds\n",
      "2024-11-22 13:23:50,403 INFO: {'initial_position': 0, 'final_position': 4294963246, 'position_change': 4294963246, 'execution_time': 15.261718273162842}\n"
     ]
    },
    {
     "data": {
      "text/plain": [
       "{'initial_position': 0,\n",
       " 'final_position': 4294963246,\n",
       " 'position_change': 4294963246,\n",
       " 'execution_time': 15.261718273162842}"
      ]
     },
     "execution_count": 6,
     "metadata": {},
     "output_type": "execute_result"
    }
   ],
   "source": [
    "controller.move_motor(1, -4050)"
   ]
  },
  {
   "cell_type": "code",
   "execution_count": 7,
   "metadata": {},
   "outputs": [
    {
     "name": "stderr",
     "output_type": "stream",
     "text": [
      "2024-11-22 13:24:10,087 DEBUG: Moving Motor 2 to position -4050 with velocity 5\n",
      "2024-11-22 13:24:10,137 INFO: Modes of operation display: 1\n",
      "2024-11-22 13:24:10,153 INFO: <nanotec_nanolib.Nanolib.ResultVoid; proxy of <Swig Object of type 'nlc::ResultVoid *' at 0x70bcc73fba80> >\n",
      "2024-11-22 13:24:10,185 INFO: <nanotec_nanolib.Nanolib.ResultVoid; proxy of <Swig Object of type 'nlc::ResultVoid *' at 0x70bcc415f240> >\n",
      "2024-11-22 13:24:10,201 INFO: <nanotec_nanolib.Nanolib.ResultVoid; proxy of <Swig Object of type 'nlc::ResultVoid *' at 0x70bcc415f000> >\n",
      "2024-11-22 13:24:10,217 INFO: <nanotec_nanolib.Nanolib.ResultVoid; proxy of <Swig Object of type 'nlc::ResultVoid *' at 0x70bcc415d260> >\n",
      "2024-11-22 13:24:10,233 INFO: <nanotec_nanolib.Nanolib.ResultVoid; proxy of <Swig Object of type 'nlc::ResultVoid *' at 0x70bcc4beae80> >\n",
      "2024-11-22 13:24:10,249 INFO: <nanotec_nanolib.Nanolib.ResultVoid; proxy of <Swig Object of type 'nlc::ResultVoid *' at 0x70bcc415d260> >\n",
      "2024-11-22 13:24:10,265 DEBUG: Motor 2 status_word = 37431\n",
      "2024-11-22 13:24:15,287 DEBUG: Motor 2 status_word = 37431\n",
      "2024-11-22 13:24:20,308 DEBUG: Motor 2 status_word = 37431\n",
      "2024-11-22 13:24:25,330 DEBUG: Motor 2 status_word = 38455\n",
      "2024-11-22 13:24:25,331 INFO: Motor 2 reached target position.\n",
      "2024-11-22 13:24:25,346 INFO: Total execution time for move_motor (Motor 2): 15.26 seconds\n",
      "2024-11-22 13:24:25,347 INFO: {'initial_position': 0, 'final_position': 4294963246, 'position_change': 4294963246, 'execution_time': 15.255293369293213}\n"
     ]
    },
    {
     "data": {
      "text/plain": [
       "{'initial_position': 0,\n",
       " 'final_position': 4294963246,\n",
       " 'position_change': 4294963246,\n",
       " 'execution_time': 15.255293369293213}"
      ]
     },
     "execution_count": 7,
     "metadata": {},
     "output_type": "execute_result"
    }
   ],
   "source": [
    "controller.move_motor(2, -4050)"
   ]
  },
  {
   "cell_type": "code",
   "execution_count": 8,
   "metadata": {},
   "outputs": [],
   "source": [
    "async def main():\n",
    "    # Assuming 'self' is an instance of your class\n",
    "    await controller.homing()"
   ]
  },
  {
   "cell_type": "code",
   "execution_count": 9,
   "metadata": {},
   "outputs": [
    {
     "name": "stderr",
     "output_type": "stream",
     "text": [
      "2024-11-22 13:24:30,360 DEBUG: Starting the homing process for both motors...\n",
      "2024-11-22 13:24:30,362 INFO: Both motors are confirmed to be connected.\n",
      "2024-11-22 13:24:30,363 DEBUG: Reading the initial position of Motor 1...\n",
      "2024-11-22 13:24:30,384 INFO: Motor 1 initial position read as: 4294963246\n",
      "2024-11-22 13:24:30,385 DEBUG: Reading the initial position of Motor 2...\n",
      "2024-11-22 13:24:30,400 INFO: Motor 2 initial position read as: 4294963246\n",
      "2024-11-22 13:24:30,402 INFO: Motor 1 target position calculated as: 4050\n",
      "2024-11-22 13:24:30,404 INFO: Moving Motor 1 to home position (0)...\n",
      "2024-11-22 13:24:30,405 INFO: Motor 1 move result: <coroutine object adc_controller.homing.<locals>.move_motor_async at 0x70bcc41665c0>\n",
      "2024-11-22 13:24:30,406 INFO: Motor 2 target position calculated as: 4050\n",
      "2024-11-22 13:24:30,407 INFO: Moving Motor 2 to home position (0)...\n",
      "2024-11-22 13:24:30,409 INFO: Motor 2 move result: <coroutine object adc_controller.homing.<locals>.move_motor_async at 0x70bcc4173e20>\n",
      "2024-11-22 13:24:30,411 DEBUG: Moving Motor 1 to position 4050 with velocity 5\n",
      "2024-11-22 13:24:30,413 DEBUG: Moving Motor 2 to position 4050 with velocity 5\n",
      "2024-11-22 13:24:30,496 INFO: Modes of operation display: 1\n",
      "2024-11-22 13:24:30,512 INFO: Modes of operation display: 1\n",
      "2024-11-22 13:24:30,528 INFO: <nanotec_nanolib.Nanolib.ResultVoid; proxy of <Swig Object of type 'nlc::ResultVoid *' at 0x70bcc72c0720> >\n",
      "2024-11-22 13:24:30,544 INFO: <nanotec_nanolib.Nanolib.ResultVoid; proxy of <Swig Object of type 'nlc::ResultVoid *' at 0x70bcc415fa80> >\n",
      "2024-11-22 13:24:30,592 INFO: <nanotec_nanolib.Nanolib.ResultVoid; proxy of <Swig Object of type 'nlc::ResultVoid *' at 0x70bcc4160c60> >\n",
      "2024-11-22 13:24:30,608 INFO: <nanotec_nanolib.Nanolib.ResultVoid; proxy of <Swig Object of type 'nlc::ResultVoid *' at 0x70bcc4161e90> >\n",
      "2024-11-22 13:24:30,624 INFO: <nanotec_nanolib.Nanolib.ResultVoid; proxy of <Swig Object of type 'nlc::ResultVoid *' at 0x70bcc4161f50> >\n",
      "2024-11-22 13:24:30,639 INFO: <nanotec_nanolib.Nanolib.ResultVoid; proxy of <Swig Object of type 'nlc::ResultVoid *' at 0x70bcc4162070> >\n",
      "2024-11-22 13:24:30,656 INFO: <nanotec_nanolib.Nanolib.ResultVoid; proxy of <Swig Object of type 'nlc::ResultVoid *' at 0x70bcc4160690> >\n",
      "2024-11-22 13:24:30,671 INFO: <nanotec_nanolib.Nanolib.ResultVoid; proxy of <Swig Object of type 'nlc::ResultVoid *' at 0x70bcc4bea160> >\n",
      "2024-11-22 13:24:30,688 INFO: <nanotec_nanolib.Nanolib.ResultVoid; proxy of <Swig Object of type 'nlc::ResultVoid *' at 0x70bcc41621c0> >\n",
      "2024-11-22 13:24:30,703 INFO: <nanotec_nanolib.Nanolib.ResultVoid; proxy of <Swig Object of type 'nlc::ResultVoid *' at 0x70bcc4162070> >\n",
      "2024-11-22 13:24:30,719 INFO: <nanotec_nanolib.Nanolib.ResultVoid; proxy of <Swig Object of type 'nlc::ResultVoid *' at 0x70bcc4bebb40> >\n",
      "2024-11-22 13:24:30,736 INFO: <nanotec_nanolib.Nanolib.ResultVoid; proxy of <Swig Object of type 'nlc::ResultVoid *' at 0x70bcc7331dd0> >\n",
      "2024-11-22 13:24:30,751 DEBUG: Motor 1 status_word = 4663\n",
      "2024-11-22 13:24:30,768 DEBUG: Motor 2 status_word = 37431\n",
      "2024-11-22 13:24:35,773 DEBUG: Motor 1 status_word = 4663\n",
      "2024-11-22 13:24:35,789 DEBUG: Motor 2 status_word = 37431\n",
      "2024-11-22 13:24:40,795 DEBUG: Motor 1 status_word = 4663\n",
      "2024-11-22 13:24:40,811 DEBUG: Motor 2 status_word = 37431\n",
      "2024-11-22 13:24:45,816 DEBUG: Motor 1 status_word = 5687\n",
      "2024-11-22 13:24:45,819 INFO: Motor 1 reached target position.\n",
      "2024-11-22 13:24:45,832 DEBUG: Motor 2 status_word = 38455\n",
      "2024-11-22 13:24:45,833 INFO: Motor 2 reached target position.\n",
      "2024-11-22 13:24:45,848 INFO: Total execution time for move_motor (Motor 1): 15.44 seconds\n",
      "2024-11-22 13:24:45,850 INFO: {'initial_position': 4294963246, 'final_position': 0, 'position_change': -4294963246, 'execution_time': 15.435071229934692}\n",
      "2024-11-22 13:24:45,864 INFO: Total execution time for move_motor (Motor 2): 15.45 seconds\n",
      "2024-11-22 13:24:45,866 INFO: {'initial_position': 4294963246, 'final_position': 0, 'position_change': -4294963246, 'execution_time': 15.447899580001831}\n",
      "2024-11-22 13:24:45,867 INFO: Motor 1 move result: {'initial_position': 4294963246, 'final_position': 0, 'position_change': -4294963246, 'execution_time': 15.435071229934692}\n",
      "2024-11-22 13:24:45,868 INFO: Motor 2 move result: {'initial_position': 4294963246, 'final_position': 0, 'position_change': -4294963246, 'execution_time': 15.447899580001831}\n",
      "2024-11-22 13:24:45,868 INFO: Homing process completed in 15.47 seconds\n"
     ]
    }
   ],
   "source": [
    "await main()"
   ]
  },
  {
   "cell_type": "code",
   "execution_count": 10,
   "metadata": {},
   "outputs": [
    {
     "name": "stderr",
     "output_type": "stream",
     "text": [
      "2024-11-22 13:24:49,583 DEBUG: Reading position of Motor 1\n",
      "2024-11-22 13:24:49,607 INFO: Motor 1 current position: 0\n",
      "2024-11-22 13:24:49,608 DEBUG: Reading position of Motor 2\n",
      "2024-11-22 13:24:49,623 INFO: Motor 2 current position: 0\n"
     ]
    },
    {
     "data": {
      "text/plain": [
       "0"
      ]
     },
     "execution_count": 10,
     "metadata": {},
     "output_type": "execute_result"
    }
   ],
   "source": [
    "controller.read_motor_position(1)\n",
    "controller.read_motor_position(2)"
   ]
  },
  {
   "cell_type": "code",
   "execution_count": 11,
   "metadata": {},
   "outputs": [
    {
     "name": "stderr",
     "output_type": "stream",
     "text": [
      "2024-11-22 13:24:53,238 DEBUG: Disconnecting devices\n",
      "2024-11-22 13:24:53,240 INFO: Device 1 disconnected successfully.\n",
      "2024-11-22 13:24:53,242 INFO: Device 2 disconnected successfully.\n",
      "2024-11-22 13:24:53,243 DEBUG: close all\n"
     ]
    }
   ],
   "source": [
    "controller.disconnect()\n",
    "controller.close()"
   ]
  }
 ],
 "metadata": {
  "kernelspec": {
   "display_name": "mingyeong",
   "language": "python",
   "name": "python3"
  },
  "language_info": {
   "codemirror_mode": {
    "name": "ipython",
    "version": 3
   },
   "file_extension": ".py",
   "mimetype": "text/x-python",
   "name": "python",
   "nbconvert_exporter": "python",
   "pygments_lexer": "ipython3",
   "version": "3.12.7"
  }
 },
 "nbformat": 4,
 "nbformat_minor": 2
}
