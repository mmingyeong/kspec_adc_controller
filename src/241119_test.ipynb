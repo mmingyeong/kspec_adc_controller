{
 "cells": [
  {
   "cell_type": "code",
   "execution_count": 1,
   "metadata": {},
   "outputs": [
    {
     "name": "stderr",
     "output_type": "stream",
     "text": [
      "2024-12-26 16:28:32 [DEBUG] Initializing AdcActions class.\n",
      "2024-12-26 16:28:32 [DEBUG] Initializing AdcController\n",
      "2024-12-26 16:28:32 [INFO] Starting the process to find devices...\n",
      "2024-12-26 16:28:32 [INFO] ID 0: BusHardwareId(���� ���� ����* 11 (TAP-Windows Adapter V9 - SecuwaySSLU)) [bus hardware: Network Adapter, protocol: EtherCAT, hardware specifier: {6F66967D-2C7A-453E-9BE9-B3C3C041A83C}]\n",
      "2024-12-26 16:28:32 [INFO] ID 1: BusHardwareId(Wi-Fi (Intel(R) Wi-Fi 6E AX211 160MHz)) [bus hardware: Network Adapter, protocol: EtherCAT, hardware specifier: {85B9F7EF-9B8F-408F-ABBC-374426446F5C}]\n",
      "2024-12-26 16:28:32 [INFO] ID 2: BusHardwareId(Serial Port (COM3)) [bus hardware: Serial Port, protocol: MODBUS RTU, hardware specifier: COM3]\n",
      "2024-12-26 16:28:32 [INFO] ID 3: BusHardwareId(Serial Port (COM4)) [bus hardware: Serial Port, protocol: MODBUS RTU, hardware specifier: COM4]\n",
      "2024-12-26 16:28:32 [INFO] ID 4: BusHardwareId(USB Bus) [bus hardware: USB BUS, protocol: MODBUS VCP, hardware specifier: UsbRoot0, extra hardware specifier: UsbBusVcp]\n",
      "2024-12-26 16:28:32 [INFO] ID 5: BusHardwareId(���� ���� ����* 11 (TAP-Windows Adapter V9 - SecuwaySSLU)) [bus hardware: Network Adapter, protocol: MODBUS TCP, hardware specifier: {6F66967D-2C7A-453E-9BE9-B3C3C041A83C}]\n",
      "2024-12-26 16:28:32 [INFO] ID 6: BusHardwareId(Wi-Fi (Intel(R) Wi-Fi 6E AX211 160MHz)) [bus hardware: Network Adapter, protocol: MODBUS TCP, hardware specifier: {85B9F7EF-9B8F-408F-ABBC-374426446F5C}]\n",
      "2024-12-26 16:28:32 [INFO] ID 7: BusHardwareId(���� ���� ����* 11 (TAP-Windows Adapter V9 - SecuwaySSLU)) [bus hardware: Network Adapter, protocol: RESTful API, hardware specifier: {6F66967D-2C7A-453E-9BE9-B3C3C041A83C}]\n",
      "2024-12-26 16:28:32 [INFO] ID 8: BusHardwareId(Wi-Fi (Intel(R) Wi-Fi 6E AX211 160MHz)) [bus hardware: Network Adapter, protocol: RESTful API, hardware specifier: {85B9F7EF-9B8F-408F-ABBC-374426446F5C}]\n",
      "2024-12-26 16:28:32 [INFO] ID 9: BusHardwareId(USB Bus) [bus hardware: USB BUS, protocol: MSC, hardware specifier: UsbRoot0, extra hardware specifier: UsbBusMsc]\n",
      "2024-12-26 16:28:32 [INFO] Selected bus hardware ID: <nanotec_nanolib.Nanolib.BusHardwareId; proxy of <Swig Object of type 'nlc::BusHardwareId *' at 0x000002D5ED127180> >\n"
     ]
    },
    {
     "name": "stdout",
     "output_type": "stream",
     "text": [
      "Scan started.\n",
      "............................................................................................................................."
     ]
    },
    {
     "name": "stderr",
     "output_type": "stream",
     "text": [
      "2024-12-26 16:28:59 [INFO] Device 1 added successfully.\n",
      "2024-12-26 16:28:59 [INFO] Device 2 added successfully.\n",
      "2024-12-26 16:28:59 [INFO] Lookup table found: ./etc/ADC_lookup.csv\n",
      "2024-12-26 16:28:59 [INFO] Zenith angle-ADC angle interpolation function created\n"
     ]
    },
    {
     "name": "stdout",
     "output_type": "stream",
     "text": [
      "\n",
      "Scan finished.\n"
     ]
    }
   ],
   "source": [
    "from adc_actions import AdcActions\n",
    "\n",
    "controller = AdcActions()"
   ]
  },
  {
   "cell_type": "code",
   "execution_count": 4,
   "metadata": {},
   "outputs": [
    {
     "name": "stderr",
     "output_type": "stream",
     "text": [
      "2024-12-26 16:29:20 [INFO] Retrieving status for motor 0.\n",
      "2024-12-26 16:29:20 [INFO] Device states: {'motor1': {'position_state': 0, 'connection_state': True}, 'motor2': {'position_state': 0, 'connection_state': True}}\n",
      "2024-12-26 16:29:20 [INFO] Motor 0 status: {'motor1': {'position_state': 0, 'connection_state': True}, 'motor2': {'position_state': 0, 'connection_state': True}}\n"
     ]
    },
    {
     "data": {
      "text/plain": [
       "{'status': 'success',\n",
       " 'message': 'Motor 0 status retrieved.',\n",
       " 'DeviceState': {'motor1': {'position_state': 0, 'connection_state': True},\n",
       "  'motor2': {'position_state': 0, 'connection_state': True}}}"
      ]
     },
     "execution_count": 4,
     "metadata": {},
     "output_type": "execute_result"
    }
   ],
   "source": [
    "controller.status()"
   ]
  },
  {
   "cell_type": "code",
   "execution_count": 3,
   "metadata": {},
   "outputs": [
    {
     "name": "stderr",
     "output_type": "stream",
     "text": [
      "2024-12-26 16:29:17 [INFO] Connecting to devices.\n",
      "2024-12-26 16:29:17 [INFO] Device 1 connected successfully.\n",
      "2024-12-26 16:29:17 [INFO] Device 2 connected successfully.\n",
      "2024-12-26 16:29:17 [INFO] Connection successful.\n"
     ]
    },
    {
     "data": {
      "text/plain": [
       "{'status': 'success', 'message': 'Connected to devices.'}"
      ]
     },
     "execution_count": 3,
     "metadata": {},
     "output_type": "execute_result"
    }
   ],
   "source": [
    "controller.connect()"
   ]
  },
  {
   "cell_type": "code",
   "execution_count": 5,
   "metadata": {},
   "outputs": [
    {
     "name": "stderr",
     "output_type": "stream",
     "text": [
      "2024-12-26 16:29:23 [INFO] Activating motors. za_angle=20\n",
      "2024-12-26 16:29:23 [DEBUG] Converted -18.2853 degrees to -822 counts.\n",
      "2024-12-26 16:29:23 [DEBUG] Moving Motor 1 to position -822 with velocity 1\n",
      "2024-12-26 16:29:23 [DEBUG] Moving Motor 2 to position -822 with velocity 1\n",
      "2024-12-26 16:29:38 [INFO] Motors activated successfully.\n"
     ]
    }
   ],
   "source": [
    "# 비동기 함수 호출\n",
    "zenith_angle = 20  # 0-60\n",
    "response = await controller.activate(zenith_angle)"
   ]
  },
  {
   "cell_type": "code",
   "execution_count": 14,
   "metadata": {},
   "outputs": [
    {
     "name": "stderr",
     "output_type": "stream",
     "text": [
      "2024-12-26 16:31:58 [DEBUG] Moving motor 1 to position -1000 with velocity 10.\n",
      "2024-12-26 16:31:58 [DEBUG] Moving Motor 1 to position -1000 with velocity 10\n",
      "2024-12-26 16:32:01 [INFO] Motor 1 moved successfully.\n"
     ]
    },
    {
     "data": {
      "text/plain": [
       "{'status': 'success',\n",
       " 'message': 'Motor 1 activated successfully.',\n",
       " 'result': {'initial_position': 1200,\n",
       "  'final_position': 200,\n",
       "  'position_change': -1000,\n",
       "  'execution_time': 2.181105375289917}}"
      ]
     },
     "execution_count": 14,
     "metadata": {},
     "output_type": "execute_result"
    }
   ],
   "source": [
    "await controller.move(1, -1000, 10)"
   ]
  },
  {
   "cell_type": "code",
   "execution_count": 8,
   "metadata": {},
   "outputs": [
    {
     "name": "stderr",
     "output_type": "stream",
     "text": [
      "2024-12-26 16:30:30 [INFO] Retrieving status for motor 0.\n",
      "2024-12-26 16:30:31 [INFO] Device states: {'motor1': {'position_state': 1200, 'connection_state': True}, 'motor2': {'position_state': 1200, 'connection_state': True}}\n",
      "2024-12-26 16:30:31 [INFO] Motor 0 status: {'motor1': {'position_state': 1200, 'connection_state': True}, 'motor2': {'position_state': 1200, 'connection_state': True}}\n"
     ]
    },
    {
     "data": {
      "text/plain": [
       "{'status': 'success',\n",
       " 'message': 'Motor 0 status retrieved.',\n",
       " 'DeviceState': {'motor1': {'position_state': 1200, 'connection_state': True},\n",
       "  'motor2': {'position_state': 1200, 'connection_state': True}}}"
      ]
     },
     "execution_count": 8,
     "metadata": {},
     "output_type": "execute_result"
    }
   ],
   "source": [
    "controller.status()"
   ]
  },
  {
   "cell_type": "code",
   "execution_count": 15,
   "metadata": {},
   "outputs": [
    {
     "name": "stderr",
     "output_type": "stream",
     "text": [
      "2024-12-26 16:35:46 [INFO] Powering off and disconnecting from devices.\n",
      "2024-12-26 16:35:46 [INFO] Device 1 disconnected successfully.\n",
      "2024-12-26 16:35:46 [INFO] Device 2 disconnected successfully.\n",
      "2024-12-26 16:35:46 [DEBUG] Closing all devices...\n",
      "2024-12-26 16:35:46 [INFO] Bus hardware closed successfully.\n",
      "2024-12-26 16:35:46 [INFO] Power off successful.\n"
     ]
    },
    {
     "data": {
      "text/plain": [
       "{'status': 'success', 'message': 'Power off and devices disconnected.'}"
      ]
     },
     "execution_count": 15,
     "metadata": {},
     "output_type": "execute_result"
    }
   ],
   "source": [
    "controller.power_off()"
   ]
  }
 ],
 "metadata": {
  "kernelspec": {
   "display_name": "kspectest",
   "language": "python",
   "name": "python3"
  },
  "language_info": {
   "codemirror_mode": {
    "name": "ipython",
    "version": 3
   },
   "file_extension": ".py",
   "mimetype": "text/x-python",
   "name": "python",
   "nbconvert_exporter": "python",
   "pygments_lexer": "ipython3",
   "version": "3.11.11"
  }
 },
 "nbformat": 4,
 "nbformat_minor": 2
}
