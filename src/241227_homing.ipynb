{
 "cells": [
  {
   "cell_type": "code",
   "execution_count": 1,
   "metadata": {},
   "outputs": [
    {
     "name": "stderr",
     "output_type": "stream",
     "text": [
      "2024-12-27 16:29:22 [DEBUG] Initializing AdcController\n"
     ]
    }
   ],
   "source": [
    "from adc_controller import AdcController\n",
    "from adc_logger import AdcLogger\n",
    "\n",
    "logger = AdcLogger()\n",
    "controller = AdcController(logger)"
   ]
  },
  {
   "cell_type": "code",
   "execution_count": 2,
   "metadata": {},
   "outputs": [
    {
     "name": "stderr",
     "output_type": "stream",
     "text": [
      "2024-12-27 16:29:23 [INFO] Starting the process to find devices...\n",
      "2024-12-27 16:29:23 [INFO] ID 0: BusHardwareId(���� ���� ����* 11 (TAP-Windows Adapter V9 - SecuwaySSLU)) [bus hardware: Network Adapter, protocol: EtherCAT, hardware specifier: {6F66967D-2C7A-453E-9BE9-B3C3C041A83C}]\n",
      "2024-12-27 16:29:23 [INFO] ID 1: BusHardwareId(Wi-Fi (Intel(R) Wi-Fi 6E AX211 160MHz)) [bus hardware: Network Adapter, protocol: EtherCAT, hardware specifier: {85B9F7EF-9B8F-408F-ABBC-374426446F5C}]\n",
      "2024-12-27 16:29:23 [INFO] ID 2: BusHardwareId(Serial Port (COM3)) [bus hardware: Serial Port, protocol: MODBUS RTU, hardware specifier: COM3]\n",
      "2024-12-27 16:29:23 [INFO] ID 3: BusHardwareId(Serial Port (COM4)) [bus hardware: Serial Port, protocol: MODBUS RTU, hardware specifier: COM4]\n",
      "2024-12-27 16:29:23 [INFO] ID 4: BusHardwareId(USB Bus) [bus hardware: USB BUS, protocol: MODBUS VCP, hardware specifier: UsbRoot0, extra hardware specifier: UsbBusVcp]\n",
      "2024-12-27 16:29:23 [INFO] ID 5: BusHardwareId(���� ���� ����* 11 (TAP-Windows Adapter V9 - SecuwaySSLU)) [bus hardware: Network Adapter, protocol: MODBUS TCP, hardware specifier: {6F66967D-2C7A-453E-9BE9-B3C3C041A83C}]\n",
      "2024-12-27 16:29:23 [INFO] ID 6: BusHardwareId(Wi-Fi (Intel(R) Wi-Fi 6E AX211 160MHz)) [bus hardware: Network Adapter, protocol: MODBUS TCP, hardware specifier: {85B9F7EF-9B8F-408F-ABBC-374426446F5C}]\n",
      "2024-12-27 16:29:23 [INFO] ID 7: BusHardwareId(���� ���� ����* 11 (TAP-Windows Adapter V9 - SecuwaySSLU)) [bus hardware: Network Adapter, protocol: RESTful API, hardware specifier: {6F66967D-2C7A-453E-9BE9-B3C3C041A83C}]\n",
      "2024-12-27 16:29:23 [INFO] ID 8: BusHardwareId(Wi-Fi (Intel(R) Wi-Fi 6E AX211 160MHz)) [bus hardware: Network Adapter, protocol: RESTful API, hardware specifier: {85B9F7EF-9B8F-408F-ABBC-374426446F5C}]\n",
      "2024-12-27 16:29:23 [INFO] ID 9: BusHardwareId(USB Bus) [bus hardware: USB BUS, protocol: MSC, hardware specifier: UsbRoot0, extra hardware specifier: UsbBusMsc]\n",
      "2024-12-27 16:29:23 [INFO] Selected bus hardware ID: <nanotec_nanolib.Nanolib.BusHardwareId; proxy of <Swig Object of type 'nlc::BusHardwareId *' at 0x0000017407057690> >\n"
     ]
    },
    {
     "name": "stdout",
     "output_type": "stream",
     "text": [
      "Scan started.\n",
      "............................................................................................................................."
     ]
    },
    {
     "name": "stderr",
     "output_type": "stream",
     "text": [
      "2024-12-27 16:29:50 [INFO] Device 1 added successfully.\n",
      "2024-12-27 16:29:50 [INFO] Device 2 added successfully.\n"
     ]
    },
    {
     "name": "stdout",
     "output_type": "stream",
     "text": [
      "\n",
      "Scan finished.\n"
     ]
    },
    {
     "name": "stderr",
     "output_type": "stream",
     "text": [
      "2024-12-27 16:29:50 [INFO] Device 1 connected successfully.\n",
      "2024-12-27 16:29:50 [INFO] Device 2 connected successfully.\n",
      "2024-12-27 16:29:50 [INFO] Device states: {'motor1': {'position_state': 500, 'connection_state': True}, 'motor2': {'position_state': 0, 'connection_state': True}}\n"
     ]
    },
    {
     "data": {
      "text/plain": [
       "{'motor1': {'position_state': 500, 'connection_state': True},\n",
       " 'motor2': {'position_state': 0, 'connection_state': True}}"
      ]
     },
     "execution_count": 2,
     "metadata": {},
     "output_type": "execute_result"
    }
   ],
   "source": [
    "controller.find_devices()\n",
    "controller.connect()\n",
    "controller.device_state()"
   ]
  },
  {
   "cell_type": "code",
   "execution_count": 3,
   "metadata": {},
   "outputs": [
    {
     "name": "stderr",
     "output_type": "stream",
     "text": [
      "2024-12-27 16:29:58 [ERROR] Failed to read parameter at index <nanotec_nanolib.Nanolib.OdIndex; proxy of <Swig Object of type 'nlc::OdIndex *' at 0x00000174071042D0> >: Service Exception, error code: 0x06090011\n",
      "2024-12-27 16:29:58 [ERROR] Failed to read parameter at index <nanotec_nanolib.Nanolib.OdIndex; proxy of <Swig Object of type 'nlc::OdIndex *' at 0x00000174071045D0> >: Service Exception, error code: 0x06090011\n",
      "2024-12-27 16:29:58 [ERROR] Failed to read parameter at index <nanotec_nanolib.Nanolib.OdIndex; proxy of <Swig Object of type 'nlc::OdIndex *' at 0x00000174071043C0> >: Service Exception, error code: 0x06090011\n"
     ]
    },
    {
     "data": {
      "text/plain": [
       "{\"<nanotec_nanolib.Nanolib.OdIndex; proxy of <Swig Object of type 'nlc::OdIndex *' at 0x00000174071046F0> >\": 35,\n",
       " \"<nanotec_nanolib.Nanolib.OdIndex; proxy of <Swig Object of type 'nlc::OdIndex *' at 0x00000174071042D0> >\": None,\n",
       " \"<nanotec_nanolib.Nanolib.OdIndex; proxy of <Swig Object of type 'nlc::OdIndex *' at 0x00000174071045D0> >\": None,\n",
       " \"<nanotec_nanolib.Nanolib.OdIndex; proxy of <Swig Object of type 'nlc::OdIndex *' at 0x00000174071043C0> >\": None,\n",
       " \"<nanotec_nanolib.Nanolib.OdIndex; proxy of <Swig Object of type 'nlc::OdIndex *' at 0x0000017407104600> >\": 0}"
      ]
     },
     "execution_count": 3,
     "metadata": {},
     "output_type": "execute_result"
    }
   ],
   "source": [
    "controller.read_homing_parameters(1)"
   ]
  },
  {
   "cell_type": "code",
   "execution_count": null,
   "metadata": {},
   "outputs": [],
   "source": [
    "controller.disconnect()\n",
    "controller.close()"
   ]
  }
 ],
 "metadata": {
  "kernelspec": {
   "display_name": "kspectest",
   "language": "python",
   "name": "python3"
  },
  "language_info": {
   "codemirror_mode": {
    "name": "ipython",
    "version": 3
   },
   "file_extension": ".py",
   "mimetype": "text/x-python",
   "name": "python",
   "nbconvert_exporter": "python",
   "pygments_lexer": "ipython3",
   "version": "3.11.11"
  }
 },
 "nbformat": 4,
 "nbformat_minor": 2
}
