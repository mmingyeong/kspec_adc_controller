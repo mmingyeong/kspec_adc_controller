{
 "cells": [
  {
   "cell_type": "code",
   "execution_count": 1,
   "metadata": {},
   "outputs": [
    {
     "name": "stderr",
     "output_type": "stream",
     "text": [
      "2025-01-02 16:08:24 [DEBUG] Initializing AdcController\n"
     ]
    }
   ],
   "source": [
    "from adc_controller import AdcController\n",
    "from adc_logger import AdcLogger\n",
    "\n",
    "logger = AdcLogger()\n",
    "controller = AdcController(logger)"
   ]
  },
  {
   "cell_type": "code",
   "execution_count": 2,
   "metadata": {},
   "outputs": [
    {
     "name": "stderr",
     "output_type": "stream",
     "text": [
      "2025-01-02 16:08:25 [INFO] Starting the process to find devices...\n",
      "2025-01-02 16:08:25 [INFO] ID 0: BusHardwareId(Wi-Fi (Intel(R) Wi-Fi 6E AX211 160MHz)) [bus hardware: Network Adapter, protocol: EtherCAT, hardware specifier: {85B9F7EF-9B8F-408F-ABBC-374426446F5C}]\n",
      "2025-01-02 16:08:25 [INFO] ID 1: BusHardwareId(Serial Port (COM3)) [bus hardware: Serial Port, protocol: MODBUS RTU, hardware specifier: COM3]\n",
      "2025-01-02 16:08:25 [INFO] ID 2: BusHardwareId(Serial Port (COM4)) [bus hardware: Serial Port, protocol: MODBUS RTU, hardware specifier: COM4]\n",
      "2025-01-02 16:08:25 [INFO] ID 3: BusHardwareId(USB Bus) [bus hardware: USB BUS, protocol: MODBUS VCP, hardware specifier: UsbRoot0, extra hardware specifier: UsbBusVcp]\n",
      "2025-01-02 16:08:25 [INFO] ID 4: BusHardwareId(Wi-Fi (Intel(R) Wi-Fi 6E AX211 160MHz)) [bus hardware: Network Adapter, protocol: MODBUS TCP, hardware specifier: {85B9F7EF-9B8F-408F-ABBC-374426446F5C}]\n",
      "2025-01-02 16:08:25 [INFO] ID 5: BusHardwareId(Wi-Fi (Intel(R) Wi-Fi 6E AX211 160MHz)) [bus hardware: Network Adapter, protocol: RESTful API, hardware specifier: {85B9F7EF-9B8F-408F-ABBC-374426446F5C}]\n",
      "2025-01-02 16:08:25 [INFO] ID 6: BusHardwareId(USB Bus) [bus hardware: USB BUS, protocol: MSC, hardware specifier: UsbRoot0, extra hardware specifier: UsbBusMsc]\n",
      "2025-01-02 16:08:25 [INFO] Selected bus hardware ID: <nanotec_nanolib.Nanolib.BusHardwareId; proxy of <Swig Object of type 'nlc::BusHardwareId *' at 0x000002258A367390> >\n"
     ]
    },
    {
     "name": "stdout",
     "output_type": "stream",
     "text": [
      "Scan started.\n",
      "............................................................................................................................."
     ]
    },
    {
     "name": "stderr",
     "output_type": "stream",
     "text": [
      "2025-01-02 16:08:52 [INFO] Device 1 added successfully.\n",
      "2025-01-02 16:08:52 [INFO] Device 2 added successfully.\n"
     ]
    },
    {
     "name": "stdout",
     "output_type": "stream",
     "text": [
      "\n",
      "Scan finished.\n"
     ]
    },
    {
     "name": "stderr",
     "output_type": "stream",
     "text": [
      "2025-01-02 16:08:52 [INFO] Device 1 connected successfully.\n",
      "2025-01-02 16:08:53 [INFO] Device 2 connected successfully.\n",
      "2025-01-02 16:08:53 [INFO] Device states: {'motor1': {'position_state': 16642, 'connection_state': True, 'device_state': ''}, 'motor2': {'position_state': 9401, 'connection_state': True, 'device_state': ''}}\n"
     ]
    },
    {
     "data": {
      "text/plain": [
       "{'motor1': {'position_state': 16642,\n",
       "  'connection_state': True,\n",
       "  'device_state': ''},\n",
       " 'motor2': {'position_state': 9401,\n",
       "  'connection_state': True,\n",
       "  'device_state': ''}}"
      ]
     },
     "execution_count": 2,
     "metadata": {},
     "output_type": "execute_result"
    }
   ],
   "source": [
    "controller.find_devices()\n",
    "controller.connect()\n",
    "controller.device_state()"
   ]
  },
  {
   "cell_type": "code",
   "execution_count": 3,
   "metadata": {},
   "outputs": [
    {
     "name": "stderr",
     "output_type": "stream",
     "text": [
      "2025-01-02 16:08:55 [INFO] device: {'handle': <nanotec_nanolib.Nanolib.DeviceHandle; proxy of <Swig Object of type 'nlc::DeviceHandle *' at 0x000002258A434750> >, 'connected': True}\n",
      "2025-01-02 16:08:55 [INFO] device_handle: <nanotec_nanolib.Nanolib.DeviceHandle; proxy of <Swig Object of type 'nlc::DeviceHandle *' at 0x000002258A434750> >\n",
      "2025-01-02 16:08:55 [INFO] Home position not set. Initializing homing process...\n"
     ]
    },
    {
     "name": "stdout",
     "output_type": "stream",
     "text": [
      "\n",
      "Monitoring Raw Value in real time (Press Ctrl+C to stop):\n",
      "Raw Value: 00000000000000000000000011000100\n",
      "Raw Value: 00000000000000000000000011000100\n",
      "Raw Value: 00000000000000000000000011000100\n",
      "Raw Value: 00000000000000000000000011000100\n",
      "Raw Value: 00000000000000000000000011000100\n",
      "Raw Value: 00000000000000000000000011000100\n",
      "Raw Value: 00000000000000000000000011000100\n",
      "Raw Value: 00000000000000000000000011000100\n",
      "Raw Value: 00000000000000000000000011000100\n",
      "Raw Value: 00000000000000000000000011000100\n",
      "Raw Value: 00000000000000000000000011000100\n",
      "Raw Value: 00000000000000000000000011000100\n",
      "Raw Value: 00000000000000000000000011000100\n",
      "Raw Value: 00000000000000000000000011000100\n",
      "Raw Value: 00000000000000000000000011000100\n",
      "Raw Value: 00000000000000000000000011000100\n",
      "Raw Value: 00000000000000000000000011000100\n",
      "Raw Value: 00000000000000000000000011000100\n",
      "Raw Value: 00000000000000000000000011000100\n",
      "Raw Value: 00000000000000000000000011000100\n",
      "Raw Value: 00000000000000000000000011000100\n",
      "Raw Value: 00000000000000000000000011000100\n",
      "Raw Value: 00000000000000000000000011000100\n",
      "Raw Value: 00000000000000000000000011000100\n"
     ]
    },
    {
     "name": "stderr",
     "output_type": "stream",
     "text": [
      "2025-01-02 16:09:20 [DEBUG] Stopping Motor 2\n",
      "2025-01-02 16:09:20 [INFO] Motor 2 stopped successfully.\n",
      "2025-01-02 16:09:20 [ERROR] Motor 2 halt failed.\n",
      "2025-01-02 16:09:20 [INFO] Home position for motor ID 2 set to: 24109\n"
     ]
    },
    {
     "name": "stdout",
     "output_type": "stream",
     "text": [
      "FINEAL Raw Value: 00000000000000000000000011000100\n"
     ]
    }
   ],
   "source": [
    "controller.homing(2)"
   ]
  },
  {
   "cell_type": "code",
   "execution_count": 8,
   "metadata": {},
   "outputs": [
    {
     "name": "stderr",
     "output_type": "stream",
     "text": [
      "2025-01-02 16:00:33 [DEBUG] Stopping Motor 2\n",
      "2025-01-02 16:00:33 [INFO] Motor 2 stopped successfully.\n",
      "2025-01-02 16:00:33 [ERROR] Motor 2 halt failed.\n"
     ]
    },
    {
     "data": {
      "text/plain": [
       "{'status': 'failed',\n",
       " 'error_code': <nanotec_nanolib.Nanolib.ResultInt; proxy of <Swig Object of type 'nlc::ResultInt *' at 0x0000018AB4CDCB10> >}"
      ]
     },
     "execution_count": 8,
     "metadata": {},
     "output_type": "execute_result"
    }
   ],
   "source": [
    "controller.stop_motor(2)"
   ]
  },
  {
   "cell_type": "code",
   "execution_count": 5,
   "metadata": {},
   "outputs": [
    {
     "name": "stderr",
     "output_type": "stream",
     "text": [
      "2025-01-02 15:56:23 [DEBUG] Moving Motor 1 to position 4050 with velocity 10\n",
      "2025-01-02 15:56:23 [INFO]  motor_currents_result : 5\n",
      "2025-01-02 15:56:24 [INFO]  motor_currents_result : 5\n",
      "2025-01-02 15:56:25 [INFO]  motor_currents_result : 5\n",
      "2025-01-02 15:56:26 [INFO]  motor_currents_result : 5\n",
      "2025-01-02 15:56:27 [INFO]  motor_currents_result : 5\n",
      "2025-01-02 15:56:28 [INFO]  motor_currents_result : 5\n",
      "2025-01-02 15:56:30 [INFO]  motor_currents_result : 5\n",
      "2025-01-02 15:56:31 [INFO]  motor_currents_result : 5\n"
     ]
    },
    {
     "data": {
      "text/plain": [
       "{'initial_position': 8723,\n",
       " 'final_position': 12773,\n",
       " 'position_change': 4050,\n",
       " 'execution_time': 7.452986478805542}"
      ]
     },
     "execution_count": 5,
     "metadata": {},
     "output_type": "execute_result"
    }
   ],
   "source": [
    "controller.move_motor(1, 4050, 10)"
   ]
  },
  {
   "cell_type": "code",
   "execution_count": 4,
   "metadata": {},
   "outputs": [
    {
     "name": "stderr",
     "output_type": "stream",
     "text": [
      "2025-01-02 16:09:44 [INFO] Device 1 disconnected successfully.\n",
      "2025-01-02 16:09:44 [INFO] Device 2 disconnected successfully.\n",
      "2025-01-02 16:09:44 [DEBUG] Closing all devices...\n",
      "2025-01-02 16:09:44 [INFO] Bus hardware closed successfully.\n"
     ]
    }
   ],
   "source": [
    "controller.disconnect()\n",
    "controller.close()"
   ]
  }
 ],
 "metadata": {
  "kernelspec": {
   "display_name": "kspectest",
   "language": "python",
   "name": "python3"
  },
  "language_info": {
   "codemirror_mode": {
    "name": "ipython",
    "version": 3
   },
   "file_extension": ".py",
   "mimetype": "text/x-python",
   "name": "python",
   "nbconvert_exporter": "python",
   "pygments_lexer": "ipython3",
   "version": "3.11.11"
  }
 },
 "nbformat": 4,
 "nbformat_minor": 2
}
