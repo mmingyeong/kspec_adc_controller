{
 "cells": [
  {
   "cell_type": "code",
   "execution_count": 1,
   "metadata": {},
   "outputs": [
    {
     "name": "stderr",
     "output_type": "stream",
     "text": [
      "2025-01-07 12:24:29 [DEBUG] Initializing AdcActions class.\n",
      "2025-01-07 12:24:29 [DEBUG] Initializing AdcController\n",
      "2025-01-07 12:24:29 [INFO] Starting the process to find devices...\n",
      "2025-01-07 12:24:29 [INFO] ID 0: BusHardwareId(VMware Network Adapter VMnet1 (VMware Virtual Ethernet Adapter for VMnet1)) [bus hardware: Network Adapter, protocol: EtherCAT, hardware specifier: {E0D69490-D9CE-48C5-B270-C2F656F0D22C}]\n",
      "2025-01-07 12:24:29 [INFO] ID 1: BusHardwareId(VMware Network Adapter VMnet8 (VMware Virtual Ethernet Adapter for VMnet8)) [bus hardware: Network Adapter, protocol: EtherCAT, hardware specifier: {A2D513A7-5B00-4C3B-B495-FE59C5C2B45F}]\n",
      "2025-01-07 12:24:29 [INFO] ID 2: BusHardwareId(Wi-Fi (Intel(R) Wi-Fi 6E AX211 160MHz)) [bus hardware: Network Adapter, protocol: EtherCAT, hardware specifier: {0B3C66B5-CC23-40D1-997B-E4053F477E82}]\n",
      "2025-01-07 12:24:29 [INFO] ID 3: BusHardwareId(vEthernet (Default Switch) (Hyper-V Virtual Ethernet Adapter)) [bus hardware: Network Adapter, protocol: EtherCAT, hardware specifier: {29DEBF76-EBFB-4EBC-8B12-FB0A57560F8A}]\n",
      "2025-01-07 12:24:29 [INFO] ID 4: BusHardwareId(Serial Port (COM3)) [bus hardware: Serial Port, protocol: MODBUS RTU, hardware specifier: COM3]\n",
      "2025-01-07 12:24:29 [INFO] ID 5: BusHardwareId(USB Bus) [bus hardware: USB BUS, protocol: MODBUS VCP, hardware specifier: UsbRoot0, extra hardware specifier: UsbBusVcp]\n",
      "2025-01-07 12:24:29 [INFO] ID 6: BusHardwareId(VMware Network Adapter VMnet1 (VMware Virtual Ethernet Adapter for VMnet1)) [bus hardware: Network Adapter, protocol: MODBUS TCP, hardware specifier: {E0D69490-D9CE-48C5-B270-C2F656F0D22C}]\n",
      "2025-01-07 12:24:29 [INFO] ID 7: BusHardwareId(VMware Network Adapter VMnet8 (VMware Virtual Ethernet Adapter for VMnet8)) [bus hardware: Network Adapter, protocol: MODBUS TCP, hardware specifier: {A2D513A7-5B00-4C3B-B495-FE59C5C2B45F}]\n",
      "2025-01-07 12:24:29 [INFO] ID 8: BusHardwareId(Wi-Fi (Intel(R) Wi-Fi 6E AX211 160MHz)) [bus hardware: Network Adapter, protocol: MODBUS TCP, hardware specifier: {0B3C66B5-CC23-40D1-997B-E4053F477E82}]\n",
      "2025-01-07 12:24:29 [INFO] ID 9: BusHardwareId(vEthernet (Default Switch) (Hyper-V Virtual Ethernet Adapter)) [bus hardware: Network Adapter, protocol: MODBUS TCP, hardware specifier: {29DEBF76-EBFB-4EBC-8B12-FB0A57560F8A}]\n",
      "2025-01-07 12:24:29 [INFO] ID 10: BusHardwareId(VMware Network Adapter VMnet1 (VMware Virtual Ethernet Adapter for VMnet1)) [bus hardware: Network Adapter, protocol: RESTful API, hardware specifier: {E0D69490-D9CE-48C5-B270-C2F656F0D22C}]\n",
      "2025-01-07 12:24:29 [INFO] ID 11: BusHardwareId(VMware Network Adapter VMnet8 (VMware Virtual Ethernet Adapter for VMnet8)) [bus hardware: Network Adapter, protocol: RESTful API, hardware specifier: {A2D513A7-5B00-4C3B-B495-FE59C5C2B45F}]\n",
      "2025-01-07 12:24:29 [INFO] ID 12: BusHardwareId(Wi-Fi (Intel(R) Wi-Fi 6E AX211 160MHz)) [bus hardware: Network Adapter, protocol: RESTful API, hardware specifier: {0B3C66B5-CC23-40D1-997B-E4053F477E82}]\n",
      "2025-01-07 12:24:29 [INFO] ID 13: BusHardwareId(vEthernet (Default Switch) (Hyper-V Virtual Ethernet Adapter)) [bus hardware: Network Adapter, protocol: RESTful API, hardware specifier: {29DEBF76-EBFB-4EBC-8B12-FB0A57560F8A}]\n",
      "2025-01-07 12:24:29 [INFO] ID 14: BusHardwareId(USB Bus) [bus hardware: USB BUS, protocol: MSC, hardware specifier: UsbRoot0, extra hardware specifier: UsbBusMsc]\n",
      "2025-01-07 12:24:29 [INFO] Selected bus hardware ID: <nanotec_nanolib.Nanolib.BusHardwareId; proxy of <Swig Object of type 'nlc::BusHardwareId *' at 0x0000026E637A9E30> >\n"
     ]
    },
    {
     "name": "stdout",
     "output_type": "stream",
     "text": [
      "Scan started.\n",
      "............................................................................................................................."
     ]
    },
    {
     "name": "stderr",
     "output_type": "stream",
     "text": [
      "2025-01-07 12:24:56 [INFO] Device 1 added successfully.\n",
      "2025-01-07 12:24:56 [INFO] Device 2 added successfully.\n",
      "2025-01-07 12:24:56 [INFO] Lookup table found: ./etc/ADC_lookup.csv\n",
      "2025-01-07 12:24:56 [INFO] Zenith angle-ADC angle interpolation function created\n"
     ]
    },
    {
     "name": "stdout",
     "output_type": "stream",
     "text": [
      "\n",
      "Scan finished.\n"
     ]
    }
   ],
   "source": [
    "from adc_controller import AdcController\n",
    "from adc_actions import AdcActions\n",
    "from adc_logger import AdcLogger\n",
    "\n",
    "logger = AdcLogger()\n",
    "controller = AdcActions(logger)"
   ]
  },
  {
   "cell_type": "code",
   "execution_count": 6,
   "metadata": {},
   "outputs": [
    {
     "name": "stderr",
     "output_type": "stream",
     "text": [
      "2025-01-07 12:25:10 [INFO] Connecting to devices.\n",
      "2025-01-07 12:25:10 [INFO] Device 1 is already connected.\n",
      "2025-01-07 12:25:10 [INFO] Device 2 is already connected.\n",
      "2025-01-07 12:25:10 [INFO] Connection successful.\n",
      "2025-01-07 12:25:10 [INFO] Retrieving status for motor 0.\n",
      "2025-01-07 12:25:10 [INFO] Device states: {'motor1': {'position_state': 14266, 'connection_state': True}, 'motor2': {'position_state': 14254, 'connection_state': True}}\n",
      "2025-01-07 12:25:10 [INFO] Motor 0 status: {'motor1': {'position_state': 14266, 'connection_state': True}, 'motor2': {'position_state': 14254, 'connection_state': True}}\n"
     ]
    },
    {
     "data": {
      "text/plain": [
       "{'status': 'success',\n",
       " 'message': 'Motor 0 status retrieved.',\n",
       " 'DeviceState': {'motor1': {'position_state': 14266, 'connection_state': True},\n",
       "  'motor2': {'position_state': 14254, 'connection_state': True}}}"
      ]
     },
     "execution_count": 6,
     "metadata": {},
     "output_type": "execute_result"
    }
   ],
   "source": [
    "controller.connect()\n",
    "controller.status()"
   ]
  },
  {
   "cell_type": "code",
   "execution_count": 8,
   "metadata": {},
   "outputs": [
    {
     "name": "stderr",
     "output_type": "stream",
     "text": [
      "2025-01-07 12:25:25 [INFO] Starting homing operation.\n",
      "2025-01-07 12:25:25 [INFO] device: {'handle': <nanotec_nanolib.Nanolib.DeviceHandle; proxy of <Swig Object of type 'nlc::DeviceHandle *' at 0x0000026E63974960> >, 'connected': True}\n",
      "2025-01-07 12:25:25 [INFO] device_handle: <nanotec_nanolib.Nanolib.DeviceHandle; proxy of <Swig Object of type 'nlc::DeviceHandle *' at 0x0000026E63974960> >\n",
      "2025-01-07 12:25:25 [INFO] Home position not set. Initializing homing process...\n"
     ]
    },
    {
     "name": "stdout",
     "output_type": "stream",
     "text": [
      "\n",
      "Monitoring Raw Value in real time (Press Ctrl+C to stop):\n"
     ]
    },
    {
     "name": "stderr",
     "output_type": "stream",
     "text": [
      "2025-01-07 12:25:39 [DEBUG] Stopping Motor 1\n",
      "2025-01-07 12:25:39 [INFO] Motor 1 stopped successfully.\n",
      "2025-01-07 12:25:39 [ERROR] Motor 1 halt failed.\n",
      "2025-01-07 12:25:39 [INFO] Home position for motor ID 1 set to: 16184\n",
      "2025-01-07 12:25:39 [INFO] Homing completed successfully.\n",
      "2025-01-07 12:25:39 [INFO] Starting homing operation.\n",
      "2025-01-07 12:25:39 [INFO] device: {'handle': <nanotec_nanolib.Nanolib.DeviceHandle; proxy of <Swig Object of type 'nlc::DeviceHandle *' at 0x0000026E632B9860> >, 'connected': True}\n",
      "2025-01-07 12:25:39 [INFO] device_handle: <nanotec_nanolib.Nanolib.DeviceHandle; proxy of <Swig Object of type 'nlc::DeviceHandle *' at 0x0000026E632B9860> >\n",
      "2025-01-07 12:25:39 [INFO] Home position not set. Initializing homing process...\n"
     ]
    },
    {
     "name": "stdout",
     "output_type": "stream",
     "text": [
      "FINEAL Raw Value: 00000000000000000000000011000000\n",
      "\n",
      "Monitoring Raw Value in real time (Press Ctrl+C to stop):\n"
     ]
    },
    {
     "name": "stderr",
     "output_type": "stream",
     "text": [
      "2025-01-07 12:25:52 [DEBUG] Stopping Motor 2\n",
      "2025-01-07 12:25:52 [INFO] Motor 2 stopped successfully.\n",
      "2025-01-07 12:25:52 [ERROR] Motor 2 halt failed.\n",
      "2025-01-07 12:25:52 [INFO] Home position for motor ID 2 set to: 16153\n",
      "2025-01-07 12:25:52 [INFO] Homing completed successfully.\n"
     ]
    },
    {
     "name": "stdout",
     "output_type": "stream",
     "text": [
      "FINEAL Raw Value: 00000000000000000000000011000000\n"
     ]
    },
    {
     "data": {
      "text/plain": [
       "{'status': 'success', 'message': None}"
      ]
     },
     "execution_count": 8,
     "metadata": {},
     "output_type": "execute_result"
    }
   ],
   "source": [
    "controller.homing(1)\n",
    "controller.homing(2)"
   ]
  },
  {
   "cell_type": "code",
   "execution_count": 7,
   "metadata": {},
   "outputs": [
    {
     "name": "stderr",
     "output_type": "stream",
     "text": [
      "2025-01-07 12:25:16 [DEBUG] Starting simultaneous move for motors 1 and 2 to position -2000 with velocity 10.\n",
      "2025-01-07 12:25:20 [INFO] Both motors moved successfully.\n"
     ]
    },
    {
     "data": {
      "text/plain": [
       "{'status': 'success',\n",
       " 'message': 'Motors activated successfully.',\n",
       " 'motor_1': {'initial_position': 14266,\n",
       "  'final_position': 12266,\n",
       "  'position_change': -2000,\n",
       "  'execution_time': 4.283342361450195},\n",
       " 'motor_2': {'initial_position': 14254,\n",
       "  'final_position': 12255,\n",
       "  'position_change': -1999,\n",
       "  'execution_time': 4.3629515171051025}}"
      ]
     },
     "execution_count": 7,
     "metadata": {},
     "output_type": "execute_result"
    }
   ],
   "source": [
    "await controller.move(0, -2000, 10)"
   ]
  },
  {
   "cell_type": "code",
   "execution_count": 5,
   "metadata": {},
   "outputs": [],
   "source": [
    "#controller.disconnect()\n",
    "#controller.power_off()"
   ]
  }
 ],
 "metadata": {
  "kernelspec": {
   "display_name": "kspectest",
   "language": "python",
   "name": "python3"
  },
  "language_info": {
   "codemirror_mode": {
    "name": "ipython",
    "version": 3
   },
   "file_extension": ".py",
   "mimetype": "text/x-python",
   "name": "python",
   "nbconvert_exporter": "python",
   "pygments_lexer": "ipython3",
   "version": "3.12.7"
  }
 },
 "nbformat": 4,
 "nbformat_minor": 2
}
