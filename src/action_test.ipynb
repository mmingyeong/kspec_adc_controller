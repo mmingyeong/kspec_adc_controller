{
 "cells": [
  {
   "cell_type": "code",
   "execution_count": 1,
   "metadata": {},
   "outputs": [],
   "source": [
    "#!/usr/bin/env python\n",
    "# -*- coding: utf-8 -*-\n",
    "#\n",
    "# @Author: Mingyeong Yang (mmingyeong@kasi.re.kr)\n",
    "# @Date: 2024-06-26\n",
    "# @Filename: test.py\n",
    "\n",
    "from adc_actions import adc_actions"
   ]
  },
  {
   "cell_type": "code",
   "execution_count": 2,
   "metadata": {},
   "outputs": [
    {
     "name": "stderr",
     "output_type": "stream",
     "text": [
      "2024-11-06 14:32:38,583 DEBUG: Initializing adc_controller\n"
     ]
    }
   ],
   "source": [
    "actions = adc_actions()"
   ]
  },
  {
   "cell_type": "code",
   "execution_count": 3,
   "metadata": {},
   "outputs": [
    {
     "name": "stderr",
     "output_type": "stream",
     "text": [
      "2024-11-06 14:32:54,300 INFO: Available Bus Hardware IDs:\n",
      "2024-11-06 14:32:54,301 INFO: ID 0: BusHardwareId(���� ���� ����* 11 (TAP-Windows Adapter V9 - SecuwaySSLU)) [bus hardware: Network Adapter, protocol: EtherCAT, hardware specifier: {D5F0D774-1012-4047-A3CD-6C88B9D70E44}]\n",
      "2024-11-06 14:32:54,303 INFO: ID 1: BusHardwareId(Wi-Fi (Intel(R) Wi-Fi 6E AX211 160MHz)) [bus hardware: Network Adapter, protocol: EtherCAT, hardware specifier: {B6138315-2713-47C0-8C29-1FE16F01733C}]\n",
      "2024-11-06 14:32:54,304 INFO: ID 2: BusHardwareId(Serial Port (COM4)) [bus hardware: Serial Port, protocol: MODBUS RTU, hardware specifier: COM4]\n",
      "2024-11-06 14:32:54,305 INFO: ID 3: BusHardwareId(Serial Port (COM6)) [bus hardware: Serial Port, protocol: MODBUS RTU, hardware specifier: COM6]\n",
      "2024-11-06 14:32:54,307 INFO: ID 4: BusHardwareId(Serial Port (COM3)) [bus hardware: Serial Port, protocol: MODBUS RTU, hardware specifier: COM3]\n",
      "2024-11-06 14:32:54,308 INFO: ID 5: BusHardwareId(Serial Port (COM8)) [bus hardware: Serial Port, protocol: MODBUS RTU, hardware specifier: COM8]\n",
      "2024-11-06 14:32:54,309 INFO: ID 6: BusHardwareId(Serial Port (COM10)) [bus hardware: Serial Port, protocol: MODBUS RTU, hardware specifier: COM10]\n",
      "2024-11-06 14:32:54,310 INFO: ID 7: BusHardwareId(USB Bus) [bus hardware: USB BUS, protocol: MODBUS VCP, hardware specifier: UsbRoot0, extra hardware specifier: UsbBusVcp]\n",
      "2024-11-06 14:32:54,311 INFO: ID 8: BusHardwareId(���� ���� ����* 11 (TAP-Windows Adapter V9 - SecuwaySSLU)) [bus hardware: Network Adapter, protocol: MODBUS TCP, hardware specifier: {D5F0D774-1012-4047-A3CD-6C88B9D70E44}]\n",
      "2024-11-06 14:32:54,313 INFO: ID 9: BusHardwareId(Wi-Fi (Intel(R) Wi-Fi 6E AX211 160MHz)) [bus hardware: Network Adapter, protocol: MODBUS TCP, hardware specifier: {B6138315-2713-47C0-8C29-1FE16F01733C}]\n",
      "2024-11-06 14:32:54,314 INFO: ID 10: BusHardwareId(���� ���� ����* 11 (TAP-Windows Adapter V9 - SecuwaySSLU)) [bus hardware: Network Adapter, protocol: RESTful API, hardware specifier: {D5F0D774-1012-4047-A3CD-6C88B9D70E44}]\n",
      "2024-11-06 14:32:54,315 INFO: ID 11: BusHardwareId(Wi-Fi (Intel(R) Wi-Fi 6E AX211 160MHz)) [bus hardware: Network Adapter, protocol: RESTful API, hardware specifier: {B6138315-2713-47C0-8C29-1FE16F01733C}]\n",
      "2024-11-06 14:32:54,316 INFO: ID 12: BusHardwareId(USB Bus) [bus hardware: USB BUS, protocol: MSC, hardware specifier: UsbRoot0, extra hardware specifier: UsbBusMsc]\n"
     ]
    },
    {
     "name": "stdout",
     "output_type": "stream",
     "text": [
      "Scan started.\n",
      "............................................................................................................................."
     ]
    },
    {
     "name": "stderr",
     "output_type": "stream",
     "text": [
      "2024-11-06 14:33:36,955 INFO: Device IDs found:\n",
      "2024-11-06 14:33:36,956 INFO: ID 0: <nanotec_nanolib.Nanolib.DeviceId; proxy of <Swig Object of type 'nlc::DeviceId *' at 0x0000019C0855F270> >\n",
      "2024-11-06 14:33:36,957 INFO: ID 1: <nanotec_nanolib.Nanolib.DeviceId; proxy of <Swig Object of type 'nlc::DeviceId *' at 0x0000019C0855F270> >\n",
      "2024-11-06 14:33:36,958 INFO: <nanotec_nanolib.Nanolib.DeviceHandle; proxy of <Swig Object of type 'nlc::DeviceHandle *' at 0x0000019C0855F270> >\n",
      "2024-11-06 14:33:36,959 INFO: <nanotec_nanolib.Nanolib.DeviceHandle; proxy of <Swig Object of type 'nlc::DeviceHandle *' at 0x0000019C0855F420> >\n",
      "2024-11-06 14:33:36,959 DEBUG: Connecting devices\n"
     ]
    },
    {
     "name": "stdout",
     "output_type": "stream",
     "text": [
      "\n",
      "Scan finished.\n"
     ]
    }
   ],
   "source": [
    "actions.poweron()"
   ]
  },
  {
   "cell_type": "code",
   "execution_count": 4,
   "metadata": {},
   "outputs": [
    {
     "name": "stderr",
     "output_type": "stream",
     "text": [
      "2024-11-06 14:33:37,334 DEBUG: Connecting devices\n",
      "2024-11-06 14:33:37,336 INFO: Device 1 is already connected.\n",
      "2024-11-06 14:33:37,338 INFO: Device 2 is already connected.\n"
     ]
    }
   ],
   "source": [
    "actions.connect()"
   ]
  },
  {
   "cell_type": "code",
   "execution_count": 5,
   "metadata": {},
   "outputs": [
    {
     "name": "stderr",
     "output_type": "stream",
     "text": [
      "2024-11-06 14:33:37,355 DEBUG: Disconnecting devices\n",
      "2024-11-06 14:33:37,356 INFO: Device 1 disconnected successfully.\n",
      "2024-11-06 14:33:37,357 INFO: Device 2 disconnected successfully.\n"
     ]
    }
   ],
   "source": [
    "actions.disconnect()"
   ]
  },
  {
   "cell_type": "code",
   "execution_count": 6,
   "metadata": {},
   "outputs": [
    {
     "name": "stderr",
     "output_type": "stream",
     "text": [
      "2024-11-06 14:33:37,367 DEBUG: Disconnecting devices\n",
      "2024-11-06 14:33:37,368 INFO: Device 1 was not connected.\n",
      "2024-11-06 14:33:37,369 INFO: Device 2 was not connected.\n",
      "2024-11-06 14:33:37,369 DEBUG: close all\n"
     ]
    }
   ],
   "source": [
    "actions.poweroff()"
   ]
  }
 ],
 "metadata": {
  "kernelspec": {
   "display_name": "Python 3",
   "language": "python",
   "name": "python3"
  },
  "language_info": {
   "codemirror_mode": {
    "name": "ipython",
    "version": 3
   },
   "file_extension": ".py",
   "mimetype": "text/x-python",
   "name": "python",
   "nbconvert_exporter": "python",
   "pygments_lexer": "ipython3",
   "version": "3.11.9"
  }
 },
 "nbformat": 4,
 "nbformat_minor": 2
}
