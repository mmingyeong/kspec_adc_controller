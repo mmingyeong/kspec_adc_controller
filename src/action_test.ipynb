{
 "cells": [
  {
   "cell_type": "code",
   "execution_count": 1,
   "metadata": {},
   "outputs": [],
   "source": [
    "#!/usr/bin/env python\n",
    "# -*- coding: utf-8 -*-\n",
    "#\n",
    "# @Author: Mingyeong Yang (mmingyeong@kasi.re.kr)\n",
    "# @Date: 2024-06-26\n",
    "# @Filename: test.py\n",
    "\n",
    "from adc_actions import adc_actions"
   ]
  },
  {
   "cell_type": "code",
   "execution_count": 2,
   "metadata": {},
   "outputs": [
    {
     "name": "stderr",
     "output_type": "stream",
     "text": [
      "2024-11-14 16:24:15,471 DEBUG: Initializing adc_actions class.\n",
      "2024-11-14 16:24:15,472 DEBUG: Initializing adc_controller\n"
     ]
    }
   ],
   "source": [
    "actions = adc_actions()"
   ]
  },
  {
   "cell_type": "code",
   "execution_count": 3,
   "metadata": {},
   "outputs": [
    {
     "name": "stderr",
     "output_type": "stream",
     "text": [
      "2024-11-14 16:24:15,484 INFO: Powering on and connecting to devices.\n",
      "2024-11-14 16:24:31,176 INFO: Available Bus Hardware IDs:\n",
      "2024-11-14 16:24:31,179 INFO: ID 0: BusHardwareId(���� ���� ����* 11 (TAP-Windows Adapter V9 - SecuwaySSLU)) [bus hardware: Network Adapter, protocol: EtherCAT, hardware specifier: {D5F0D774-1012-4047-A3CD-6C88B9D70E44}]\n",
      "2024-11-14 16:24:31,180 INFO: ID 1: BusHardwareId(Wi-Fi (Intel(R) Wi-Fi 6E AX211 160MHz)) [bus hardware: Network Adapter, protocol: EtherCAT, hardware specifier: {B6138315-2713-47C0-8C29-1FE16F01733C}]\n",
      "2024-11-14 16:24:31,182 INFO: ID 2: BusHardwareId(Serial Port (COM4)) [bus hardware: Serial Port, protocol: MODBUS RTU, hardware specifier: COM4]\n",
      "2024-11-14 16:24:31,183 INFO: ID 3: BusHardwareId(Serial Port (COM6)) [bus hardware: Serial Port, protocol: MODBUS RTU, hardware specifier: COM6]\n",
      "2024-11-14 16:24:31,184 INFO: ID 4: BusHardwareId(Serial Port (COM3)) [bus hardware: Serial Port, protocol: MODBUS RTU, hardware specifier: COM3]\n",
      "2024-11-14 16:24:31,185 INFO: ID 5: BusHardwareId(Serial Port (COM8)) [bus hardware: Serial Port, protocol: MODBUS RTU, hardware specifier: COM8]\n",
      "2024-11-14 16:24:31,186 INFO: ID 6: BusHardwareId(Serial Port (COM10)) [bus hardware: Serial Port, protocol: MODBUS RTU, hardware specifier: COM10]\n",
      "2024-11-14 16:24:31,188 INFO: ID 7: BusHardwareId(USB Bus) [bus hardware: USB BUS, protocol: MODBUS VCP, hardware specifier: UsbRoot0, extra hardware specifier: UsbBusVcp]\n",
      "2024-11-14 16:24:31,189 INFO: ID 8: BusHardwareId(���� ���� ����* 11 (TAP-Windows Adapter V9 - SecuwaySSLU)) [bus hardware: Network Adapter, protocol: MODBUS TCP, hardware specifier: {D5F0D774-1012-4047-A3CD-6C88B9D70E44}]\n",
      "2024-11-14 16:24:31,190 INFO: ID 9: BusHardwareId(Wi-Fi (Intel(R) Wi-Fi 6E AX211 160MHz)) [bus hardware: Network Adapter, protocol: MODBUS TCP, hardware specifier: {B6138315-2713-47C0-8C29-1FE16F01733C}]\n",
      "2024-11-14 16:24:31,191 INFO: ID 10: BusHardwareId(���� ���� ����* 11 (TAP-Windows Adapter V9 - SecuwaySSLU)) [bus hardware: Network Adapter, protocol: RESTful API, hardware specifier: {D5F0D774-1012-4047-A3CD-6C88B9D70E44}]\n",
      "2024-11-14 16:24:31,192 INFO: ID 11: BusHardwareId(Wi-Fi (Intel(R) Wi-Fi 6E AX211 160MHz)) [bus hardware: Network Adapter, protocol: RESTful API, hardware specifier: {B6138315-2713-47C0-8C29-1FE16F01733C}]\n",
      "2024-11-14 16:24:31,193 INFO: ID 12: BusHardwareId(USB Bus) [bus hardware: USB BUS, protocol: MSC, hardware specifier: UsbRoot0, extra hardware specifier: UsbBusMsc]\n"
     ]
    },
    {
     "name": "stdout",
     "output_type": "stream",
     "text": [
      "Scan started.\n",
      "............................................................................................................................."
     ]
    },
    {
     "name": "stderr",
     "output_type": "stream",
     "text": [
      "2024-11-14 16:25:13,879 INFO: Device IDs found:\n",
      "2024-11-14 16:25:13,882 INFO: ID 0: <nanotec_nanolib.Nanolib.DeviceId; proxy of <Swig Object of type 'nlc::DeviceId *' at 0x0000015E670D0330> >\n",
      "2024-11-14 16:25:13,884 INFO: ID 1: <nanotec_nanolib.Nanolib.DeviceId; proxy of <Swig Object of type 'nlc::DeviceId *' at 0x0000015E670D0330> >\n",
      "2024-11-14 16:25:13,887 INFO: <nanotec_nanolib.Nanolib.DeviceHandle; proxy of <Swig Object of type 'nlc::DeviceHandle *' at 0x0000015E670D0330> >\n",
      "2024-11-14 16:25:13,889 INFO: <nanotec_nanolib.Nanolib.DeviceHandle; proxy of <Swig Object of type 'nlc::DeviceHandle *' at 0x0000015E670D0270> >\n",
      "2024-11-14 16:25:13,891 DEBUG: Connecting devices\n"
     ]
    },
    {
     "name": "stdout",
     "output_type": "stream",
     "text": [
      "\n",
      "Scan finished.\n"
     ]
    },
    {
     "name": "stderr",
     "output_type": "stream",
     "text": [
      "2024-11-14 16:25:14,075 INFO: Device 1 connected successfully.\n",
      "2024-11-14 16:25:14,251 INFO: Device 2 connected successfully.\n",
      "2024-11-14 16:25:14,254 INFO: Power on successful.\n"
     ]
    },
    {
     "data": {
      "text/plain": [
       "'{\"status\": \"success\", \"message\": \"Power on and devices connected.\"}'"
      ]
     },
     "execution_count": 3,
     "metadata": {},
     "output_type": "execute_result"
    }
   ],
   "source": [
    "actions.poweron()"
   ]
  },
  {
   "cell_type": "code",
   "execution_count": 4,
   "metadata": {},
   "outputs": [
    {
     "name": "stderr",
     "output_type": "stream",
     "text": [
      "2024-11-14 16:25:14,279 INFO: Connecting to devices.\n",
      "2024-11-14 16:25:14,282 DEBUG: Connecting devices\n",
      "2024-11-14 16:25:14,282 INFO: Connection successful.\n"
     ]
    },
    {
     "data": {
      "text/plain": [
       "'{\"status\": \"success\", \"message\": \"Connected to devices.\"}'"
      ]
     },
     "execution_count": 4,
     "metadata": {},
     "output_type": "execute_result"
    }
   ],
   "source": [
    "actions.connect()"
   ]
  },
  {
   "cell_type": "code",
   "execution_count": 5,
   "metadata": {},
   "outputs": [
    {
     "name": "stderr",
     "output_type": "stream",
     "text": [
      "2024-11-14 16:25:14,298 INFO: Retrieving status for motor 0.\n",
      "2024-11-14 16:25:14,299 DEBUG: Checking device and connection states, including Modbus RTU network status\n",
      "2024-11-14 16:25:14,331 INFO: Device states: {'motor1': {'connection_state': True, 'device_state': '', 'extra_state': True}, 'motor2': {'connection_state': True, 'device_state': '', 'extra_state': True}}\n",
      "2024-11-14 16:25:14,333 INFO: Motor 0 status: {'motor1': {'connection_state': True, 'device_state': '', 'extra_state': True}, 'motor2': {'connection_state': True, 'device_state': '', 'extra_state': True}}\n"
     ]
    },
    {
     "data": {
      "text/plain": [
       "'{\"status\": \"success\", \"message\": \"Motor 0 status retrieved.\", \"DeviceState\": {\"motor1\": {\"connection_state\": true, \"device_state\": \"\", \"extra_state\": true}, \"motor2\": {\"connection_state\": true, \"device_state\": \"\", \"extra_state\": true}}}'"
      ]
     },
     "execution_count": 5,
     "metadata": {},
     "output_type": "execute_result"
    }
   ],
   "source": [
    "actions.status()"
   ]
  },
  {
   "cell_type": "code",
   "execution_count": 8,
   "metadata": {},
   "outputs": [
    {
     "name": "stderr",
     "output_type": "stream",
     "text": [
      "2024-11-14 16:26:02,821 INFO: Activating motors.\n",
      "2024-11-14 16:26:02,822 DEBUG: Moving Motor 1 to position 16200 with velocity 10\n",
      "2024-11-14 16:26:02,823 DEBUG: Moving Motor 2 to position 16200 with velocity 10\n",
      "2024-11-14 16:26:03,024 DEBUG: Motor 1 status_word = 4663\n",
      "2024-11-14 16:26:03,136 DEBUG: Motor 2 status_word = 37431\n",
      "2024-11-14 16:26:08,047 DEBUG: Motor 1 status_word = 4663\n",
      "2024-11-14 16:26:08,159 DEBUG: Motor 2 status_word = 37431\n",
      "2024-11-14 16:26:13,067 DEBUG: Motor 1 status_word = 4663\n",
      "2024-11-14 16:26:13,180 DEBUG: Motor 2 status_word = 37431\n",
      "2024-11-14 16:26:18,089 DEBUG: Motor 1 status_word = 4663\n",
      "2024-11-14 16:26:18,201 DEBUG: Motor 2 status_word = 37431\n",
      "2024-11-14 16:26:23,110 DEBUG: Motor 1 status_word = 4663\n",
      "2024-11-14 16:26:23,222 DEBUG: Motor 2 status_word = 37431\n",
      "2024-11-14 16:26:28,131 DEBUG: Motor 1 status_word = 4663\n",
      "2024-11-14 16:26:28,244 DEBUG: Motor 2 status_word = 37431\n",
      "2024-11-14 16:26:33,153 DEBUG: Motor 1 status_word = 5687\n",
      "2024-11-14 16:26:33,156 INFO: Motor 1 reached target position.\n",
      "2024-11-14 16:26:33,169 INFO: Total execution time for move_motor (Motor 1): 30.35 seconds\n",
      "2024-11-14 16:26:33,171 INFO: {'initial_position': 90750, 'final_position': 106950, 'position_change': 16200, 'execution_time': 30.34632444381714}\n",
      "2024-11-14 16:26:33,264 DEBUG: Motor 2 status_word = 38455\n",
      "2024-11-14 16:26:33,268 INFO: Motor 2 reached target position.\n",
      "2024-11-14 16:26:33,281 INFO: Total execution time for move_motor (Motor 2): 30.46 seconds\n",
      "2024-11-14 16:26:33,282 INFO: {'initial_position': 32400, 'final_position': 48600, 'position_change': 16200, 'execution_time': 30.45680332183838}\n",
      "2024-11-14 16:26:33,285 INFO: Motors activated successfully.\n"
     ]
    },
    {
     "data": {
      "text/plain": [
       "'{\"status\": \"success\", \"message\": \"Motors activated successfully.\", \"motor_1\": {\"initial_position\": 90750, \"final_position\": 106950, \"position_change\": 16200, \"execution_time\": 30.34632444381714}, \"motor_2\": {\"initial_position\": 32400, \"final_position\": 48600, \"position_change\": 16200, \"execution_time\": 30.45680332183838}}'"
      ]
     },
     "execution_count": 8,
     "metadata": {},
     "output_type": "execute_result"
    }
   ],
   "source": [
    "await actions.activate()"
   ]
  },
  {
   "cell_type": "code",
   "execution_count": 9,
   "metadata": {},
   "outputs": [
    {
     "name": "stderr",
     "output_type": "stream",
     "text": [
      "2024-11-14 16:26:48,759 INFO: Disconnecting from devices.\n",
      "2024-11-14 16:26:48,761 DEBUG: Disconnecting devices\n",
      "2024-11-14 16:26:48,762 INFO: Device 1 disconnected successfully.\n",
      "2024-11-14 16:26:48,763 INFO: Device 2 disconnected successfully.\n",
      "2024-11-14 16:26:48,764 INFO: Disconnection successful.\n",
      "2024-11-14 16:26:48,765 INFO: Powering off and disconnecting from devices.\n",
      "2024-11-14 16:26:48,766 DEBUG: Disconnecting devices\n",
      "2024-11-14 16:26:48,767 INFO: Device 1 was not connected.\n",
      "2024-11-14 16:26:48,768 INFO: Device 2 was not connected.\n",
      "2024-11-14 16:26:48,769 DEBUG: close all\n",
      "2024-11-14 16:26:48,877 INFO: Power off successful.\n"
     ]
    },
    {
     "data": {
      "text/plain": [
       "'{\"status\": \"success\", \"message\": \"Power off and devices disconnected.\"}'"
      ]
     },
     "execution_count": 9,
     "metadata": {},
     "output_type": "execute_result"
    }
   ],
   "source": [
    "actions.disconnect()\n",
    "actions.poweroff()"
   ]
  }
 ],
 "metadata": {
  "kernelspec": {
   "display_name": "Python 3",
   "language": "python",
   "name": "python3"
  },
  "language_info": {
   "codemirror_mode": {
    "name": "ipython",
    "version": 3
   },
   "file_extension": ".py",
   "mimetype": "text/x-python",
   "name": "python",
   "nbconvert_exporter": "python",
   "pygments_lexer": "ipython3",
   "version": "3.11.9"
  }
 },
 "nbformat": 4,
 "nbformat_minor": 2
}
