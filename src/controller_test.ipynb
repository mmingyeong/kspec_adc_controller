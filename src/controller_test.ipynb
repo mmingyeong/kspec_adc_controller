{
 "cells": [
  {
   "cell_type": "code",
   "execution_count": 1,
   "metadata": {},
   "outputs": [],
   "source": [
    "#!/usr/bin/env python\n",
    "# -*- coding: utf-8 -*-\n",
    "#\n",
    "# @Author: Mingyeong Yang (mmingyeong@kasi.re.kr)\n",
    "# @Date: 2024-06-26\n",
    "# @Filename: test.py\n",
    "\n",
    "from adc_controller import adc_controller"
   ]
  },
  {
   "cell_type": "code",
   "execution_count": 2,
   "metadata": {},
   "outputs": [
    {
     "name": "stderr",
     "output_type": "stream",
     "text": [
      "2024-11-06 16:15:45,317 DEBUG: Initializing adc_controller\n"
     ]
    }
   ],
   "source": [
    "controller = adc_controller()"
   ]
  },
  {
   "cell_type": "code",
   "execution_count": 3,
   "metadata": {},
   "outputs": [
    {
     "name": "stderr",
     "output_type": "stream",
     "text": [
      "2024-11-06 16:16:02,403 INFO: Available Bus Hardware IDs:\n",
      "2024-11-06 16:16:02,405 INFO: ID 0: BusHardwareId(���� ���� ����* 11 (TAP-Windows Adapter V9 - SecuwaySSLU)) [bus hardware: Network Adapter, protocol: EtherCAT, hardware specifier: {D5F0D774-1012-4047-A3CD-6C88B9D70E44}]\n",
      "2024-11-06 16:16:02,406 INFO: ID 1: BusHardwareId(Wi-Fi (Intel(R) Wi-Fi 6E AX211 160MHz)) [bus hardware: Network Adapter, protocol: EtherCAT, hardware specifier: {B6138315-2713-47C0-8C29-1FE16F01733C}]\n",
      "2024-11-06 16:16:02,409 INFO: ID 2: BusHardwareId(Serial Port (COM4)) [bus hardware: Serial Port, protocol: MODBUS RTU, hardware specifier: COM4]\n",
      "2024-11-06 16:16:02,411 INFO: ID 3: BusHardwareId(Serial Port (COM6)) [bus hardware: Serial Port, protocol: MODBUS RTU, hardware specifier: COM6]\n",
      "2024-11-06 16:16:02,412 INFO: ID 4: BusHardwareId(Serial Port (COM3)) [bus hardware: Serial Port, protocol: MODBUS RTU, hardware specifier: COM3]\n",
      "2024-11-06 16:16:02,414 INFO: ID 5: BusHardwareId(Serial Port (COM8)) [bus hardware: Serial Port, protocol: MODBUS RTU, hardware specifier: COM8]\n",
      "2024-11-06 16:16:02,415 INFO: ID 6: BusHardwareId(Serial Port (COM10)) [bus hardware: Serial Port, protocol: MODBUS RTU, hardware specifier: COM10]\n",
      "2024-11-06 16:16:02,416 INFO: ID 7: BusHardwareId(USB Bus) [bus hardware: USB BUS, protocol: MODBUS VCP, hardware specifier: UsbRoot0, extra hardware specifier: UsbBusVcp]\n",
      "2024-11-06 16:16:02,417 INFO: ID 8: BusHardwareId(���� ���� ����* 11 (TAP-Windows Adapter V9 - SecuwaySSLU)) [bus hardware: Network Adapter, protocol: MODBUS TCP, hardware specifier: {D5F0D774-1012-4047-A3CD-6C88B9D70E44}]\n",
      "2024-11-06 16:16:02,419 INFO: ID 9: BusHardwareId(Wi-Fi (Intel(R) Wi-Fi 6E AX211 160MHz)) [bus hardware: Network Adapter, protocol: MODBUS TCP, hardware specifier: {B6138315-2713-47C0-8C29-1FE16F01733C}]\n",
      "2024-11-06 16:16:02,420 INFO: ID 10: BusHardwareId(���� ���� ����* 11 (TAP-Windows Adapter V9 - SecuwaySSLU)) [bus hardware: Network Adapter, protocol: RESTful API, hardware specifier: {D5F0D774-1012-4047-A3CD-6C88B9D70E44}]\n",
      "2024-11-06 16:16:02,422 INFO: ID 11: BusHardwareId(Wi-Fi (Intel(R) Wi-Fi 6E AX211 160MHz)) [bus hardware: Network Adapter, protocol: RESTful API, hardware specifier: {B6138315-2713-47C0-8C29-1FE16F01733C}]\n",
      "2024-11-06 16:16:02,423 INFO: ID 12: BusHardwareId(USB Bus) [bus hardware: USB BUS, protocol: MSC, hardware specifier: UsbRoot0, extra hardware specifier: UsbBusMsc]\n"
     ]
    },
    {
     "name": "stdout",
     "output_type": "stream",
     "text": [
      "Scan started.\n",
      "............................................................................................................................."
     ]
    },
    {
     "name": "stderr",
     "output_type": "stream",
     "text": [
      "2024-11-06 16:16:45,247 INFO: Device IDs found:\n",
      "2024-11-06 16:16:45,249 INFO: ID 0: <nanotec_nanolib.Nanolib.DeviceId; proxy of <Swig Object of type 'nlc::DeviceId *' at 0x0000026BFD372DC0> >\n",
      "2024-11-06 16:16:45,251 INFO: ID 1: <nanotec_nanolib.Nanolib.DeviceId; proxy of <Swig Object of type 'nlc::DeviceId *' at 0x0000026BFD372DC0> >\n",
      "2024-11-06 16:16:45,253 INFO: <nanotec_nanolib.Nanolib.DeviceHandle; proxy of <Swig Object of type 'nlc::DeviceHandle *' at 0x0000026BFD372DC0> >\n",
      "2024-11-06 16:16:45,254 INFO: <nanotec_nanolib.Nanolib.DeviceHandle; proxy of <Swig Object of type 'nlc::DeviceHandle *' at 0x0000026BFD3730F0> >\n"
     ]
    },
    {
     "name": "stdout",
     "output_type": "stream",
     "text": [
      "\n",
      "Scan finished.\n"
     ]
    }
   ],
   "source": [
    "controller.find_devices()\n"
   ]
  },
  {
   "cell_type": "code",
   "execution_count": null,
   "metadata": {},
   "outputs": [
    {
     "name": "stderr",
     "output_type": "stream",
     "text": [
      "2024-11-06 16:16:50,017 DEBUG: Connecting devices\n"
     ]
    }
   ],
   "source": [
    "#controller.close()\n",
    "controller.connect()"
   ]
  },
  {
   "cell_type": "code",
   "execution_count": 5,
   "metadata": {},
   "outputs": [
    {
     "name": "stderr",
     "output_type": "stream",
     "text": [
      "2024-11-06 16:16:52,039 DEBUG: Checking connection state\n",
      "2024-11-06 16:16:52,073 INFO: Connection state: {'motor 1': True, 'motor 2': True}\n"
     ]
    },
    {
     "data": {
      "text/plain": [
       "{'motor 1': True, 'motor 2': True}"
      ]
     },
     "execution_count": 5,
     "metadata": {},
     "output_type": "execute_result"
    }
   ],
   "source": [
    "controller.checkConnectionState()"
   ]
  },
  {
   "cell_type": "code",
   "execution_count": 6,
   "metadata": {},
   "outputs": [],
   "source": [
    "import asyncio\n",
    "\n",
    "# Jupyter Notebook에서 비동기 함수 호출을 위한 헬퍼 함수\n",
    "def run_async_in_notebook(async_func):\n",
    "    try:\n",
    "        loop = asyncio.get_running_loop()\n",
    "    except RuntimeError:  # 'RuntimeError: There is no current event loop...'\n",
    "        loop = asyncio.new_event_loop()\n",
    "        asyncio.set_event_loop(loop)\n",
    "    else:\n",
    "        # 이미 루프가 존재하면 async 함수를 실행\n",
    "        return loop.create_task(async_func)\n",
    "    \n",
    "    # 새 이벤트 루프를 생성하여 비동기 함수 실행\n",
    "    return loop.run_until_complete(async_func)\n"
   ]
  },
  {
   "cell_type": "code",
   "execution_count": null,
   "metadata": {},
   "outputs": [
    {
     "data": {
      "text/plain": [
       "<Task pending name='Task-13' coro=<adc_controller.move_motor() running at c:\\Users\\mming\\Desktop\\kspec\\kspec_adc\\kspec_adc_controller\\kspec_adc_controller\\src\\adc_controller.py:188>>"
      ]
     },
     "execution_count": 15,
     "metadata": {},
     "output_type": "execute_result"
    },
    {
     "name": "stderr",
     "output_type": "stream",
     "text": [
      "2024-11-06 16:18:45,064 DEBUG: Moving Motor 2 to position 100000 with velocity 100\n",
      "2024-11-06 16:18:45,210 DEBUG: Motor 2 status_word = 37431\n",
      "2024-11-06 16:18:45,322 DEBUG: Motor 2 status_word = 37431\n",
      "2024-11-06 16:18:45,434 DEBUG: Motor 2 status_word = 37431\n",
      "2024-11-06 16:18:45,546 DEBUG: Motor 2 status_word = 37431\n",
      "2024-11-06 16:18:45,657 DEBUG: Motor 2 status_word = 37431\n",
      "2024-11-06 16:18:45,769 DEBUG: Motor 2 status_word = 37431\n",
      "2024-11-06 16:18:45,882 DEBUG: Motor 2 status_word = 37431\n",
      "2024-11-06 16:18:45,993 DEBUG: Motor 2 status_word = 37431\n",
      "2024-11-06 16:18:46,105 DEBUG: Motor 2 status_word = 37431\n",
      "2024-11-06 16:18:46,217 DEBUG: Motor 2 status_word = 37431\n",
      "2024-11-06 16:18:46,329 DEBUG: Motor 2 status_word = 37431\n",
      "2024-11-06 16:18:46,442 DEBUG: Motor 2 status_word = 37431\n",
      "2024-11-06 16:18:46,553 DEBUG: Motor 2 status_word = 37431\n",
      "2024-11-06 16:18:46,665 DEBUG: Motor 2 status_word = 37431\n",
      "2024-11-06 16:18:46,777 DEBUG: Motor 2 status_word = 37431\n",
      "2024-11-06 16:18:46,889 DEBUG: Motor 2 status_word = 37431\n",
      "2024-11-06 16:18:47,001 DEBUG: Motor 2 status_word = 37431\n",
      "2024-11-06 16:18:47,113 DEBUG: Motor 2 status_word = 37431\n",
      "2024-11-06 16:18:47,224 DEBUG: Motor 2 status_word = 37431\n",
      "2024-11-06 16:18:47,337 DEBUG: Motor 2 status_word = 37431\n",
      "2024-11-06 16:18:47,465 DEBUG: Motor 2 status_word = 37431\n",
      "2024-11-06 16:18:47,576 DEBUG: Motor 2 status_word = 37431\n",
      "2024-11-06 16:18:47,689 DEBUG: Motor 2 status_word = 37431\n",
      "2024-11-06 16:18:47,816 DEBUG: Motor 2 status_word = 37431\n"
     ]
    }
   ],
   "source": [
    "# 비동기 move_motor 테스트 실행\n",
    "run_async_in_notebook(controller.move_motor(MotorNum=2, pos=4000, vel=100))\n"
   ]
  },
  {
   "cell_type": "code",
   "execution_count": null,
   "metadata": {},
   "outputs": [
    {
     "data": {
      "text/plain": [
       "<Task pending name='Task-15' coro=<adc_controller.stop_motor() running at c:\\Users\\mming\\Desktop\\kspec\\kspec_adc\\kspec_adc_controller\\kspec_adc_controller\\src\\adc_controller.py:255>>"
      ]
     },
     "execution_count": 17,
     "metadata": {},
     "output_type": "execute_result"
    },
    {
     "name": "stderr",
     "output_type": "stream",
     "text": [
      "2024-11-06 16:19:06,180 DEBUG: Stopping Motor 1\n",
      "2024-11-06 16:19:06,208 DEBUG: Motor 1 stopped with status word: <nanotec_nanolib.Nanolib.ResultInt; proxy of <Swig Object of type 'nlc::ResultInt *' at 0x0000026BFD373690> >\n",
      "2024-11-06 16:19:06,224 DEBUG: Motor 1 error stack contains 0 elements\n"
     ]
    }
   ],
   "source": [
    "# 비동기 stop_motor 테스트 실행\n",
    "run_async_in_notebook(controller.stop_motor(MotorNum=1))"
   ]
  },
  {
   "cell_type": "code",
   "execution_count": 18,
   "metadata": {},
   "outputs": [
    {
     "name": "stderr",
     "output_type": "stream",
     "text": [
      "2024-11-06 16:22:13,150 DEBUG: Disconnecting devices\n",
      "2024-11-06 16:22:13,151 INFO: Device 1 disconnected successfully.\n",
      "2024-11-06 16:22:13,153 INFO: Device 2 disconnected successfully.\n",
      "2024-11-06 16:22:13,155 DEBUG: close all\n"
     ]
    }
   ],
   "source": [
    "controller.disconnect()\n",
    "controller.close()"
   ]
  },
  {
   "cell_type": "code",
   "execution_count": null,
   "metadata": {},
   "outputs": [],
   "source": []
  }
 ],
 "metadata": {
  "kernelspec": {
   "display_name": "Python 3",
   "language": "python",
   "name": "python3"
  },
  "language_info": {
   "codemirror_mode": {
    "name": "ipython",
    "version": 3
   },
   "file_extension": ".py",
   "mimetype": "text/x-python",
   "name": "python",
   "nbconvert_exporter": "python",
   "pygments_lexer": "ipython3",
   "version": "3.11.9"
  }
 },
 "nbformat": 4,
 "nbformat_minor": 2
}
